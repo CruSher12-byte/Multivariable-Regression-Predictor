{
 "cells": [
  {
   "cell_type": "markdown",
   "id": "79b3d166",
   "metadata": {
    "papermill": {
     "duration": 0.020987,
     "end_time": "2022-06-18T18:17:19.467327",
     "exception": false,
     "start_time": "2022-06-18T18:17:19.446340",
     "status": "completed"
    },
    "tags": []
   },
   "source": [
    "# <div style='text-align: center;  font-weight:600;'  > Basic Multivariate Regression with Detailed EDA </div>"
   ]
  },
  {
   "cell_type": "markdown",
   "id": "04228fdd",
   "metadata": {
    "papermill": {
     "duration": 0.018565,
     "end_time": "2022-06-18T18:17:19.505343",
     "exception": false,
     "start_time": "2022-06-18T18:17:19.486778",
     "status": "completed"
    },
    "tags": []
   },
   "source": [
    "## <div style='text-align: center;'> Introduction </div>\n",
    "\n",
    "### Context\n",
    "* We are given a dataset containing information of the sale of more than 1000 used cars\n",
    "* The dataset consists of 10 columns and 1435 rows.\n",
    "* To predict the price of a used car, a model is required which factors in all the variables from the dataset.\n",
    "\n",
    "### Index\n",
    "1. [Collecting and Understanding the Dataset.](#collection)\n",
    "2. [Cleaning and Visualising the Dataset.](#cleaning)\n",
    "3. [EDA and Scaling](#eda)\n",
    "4. [Machine Learning](#ml)\n"
   ]
  },
  {
   "cell_type": "markdown",
   "id": "18ef4db2",
   "metadata": {
    "papermill": {
     "duration": 0.01848,
     "end_time": "2022-06-18T18:17:19.543457",
     "exception": false,
     "start_time": "2022-06-18T18:17:19.524977",
     "status": "completed"
    },
    "tags": []
   },
   "source": [
    "***\n",
    "\n",
    "<a id='collection'></a>\n",
    "## <div style='text-align: center;'>1. Collecting and Understanding the Dataset</div>"
   ]
  },
  {
   "cell_type": "markdown",
   "id": "91b14874",
   "metadata": {
    "papermill": {
     "duration": 0.018361,
     "end_time": "2022-06-18T18:17:19.580496",
     "exception": false,
     "start_time": "2022-06-18T18:17:19.562135",
     "status": "completed"
    },
    "tags": []
   },
   "source": [
    "#### Importing relevant libraries and modules\n",
    "\n",
    "* Importing Pandas for Data Handling.\n",
    "* Importing Seaborn and Matplotlib for data Visualisation."
   ]
  },
  {
   "cell_type": "code",
   "execution_count": 1,
   "id": "18ec6230",
   "metadata": {
    "_cell_guid": "b1076dfc-b9ad-4769-8c92-a6c4dae69d19",
    "_uuid": "8f2839f25d086af736a60e9eeb907d3b93b6e0e5",
    "execution": {
     "iopub.execute_input": "2022-06-18T18:17:19.620713Z",
     "iopub.status.busy": "2022-06-18T18:17:19.619724Z",
     "iopub.status.idle": "2022-06-18T18:17:20.700541Z",
     "shell.execute_reply": "2022-06-18T18:17:20.699553Z"
    },
    "papermill": {
     "duration": 1.104289,
     "end_time": "2022-06-18T18:17:20.703462",
     "exception": false,
     "start_time": "2022-06-18T18:17:19.599173",
     "status": "completed"
    },
    "tags": []
   },
   "outputs": [],
   "source": [
    "# Data processing, CSV file I/O (e.g. pd.read_csv)\n",
    "import pandas as pd\n",
    "\n",
    "# Data Visualisation\n",
    "import seaborn as sns\n",
    "import matplotlib.pyplot as plt"
   ]
  },
  {
   "cell_type": "markdown",
   "id": "7c71fbec",
   "metadata": {
    "papermill": {
     "duration": 0.018285,
     "end_time": "2022-06-18T18:17:20.740571",
     "exception": false,
     "start_time": "2022-06-18T18:17:20.722286",
     "status": "completed"
    },
    "tags": []
   },
   "source": [
    "#### Observing and Understanding the dataset\n",
    "\n",
    "First the `CarSales.csv` file is stored in the dataframe for further working."
   ]
  },
  {
   "cell_type": "code",
   "execution_count": 2,
   "id": "c022a311",
   "metadata": {
    "execution": {
     "iopub.execute_input": "2022-06-18T18:17:20.780308Z",
     "iopub.status.busy": "2022-06-18T18:17:20.779638Z",
     "iopub.status.idle": "2022-06-18T18:17:20.833755Z",
     "shell.execute_reply": "2022-06-18T18:17:20.832711Z"
    },
    "papermill": {
     "duration": 0.077145,
     "end_time": "2022-06-18T18:17:20.836128",
     "exception": false,
     "start_time": "2022-06-18T18:17:20.758983",
     "status": "completed"
    },
    "tags": []
   },
   "outputs": [
    {
     "data": {
      "text/html": [
       "<div>\n",
       "<style scoped>\n",
       "    .dataframe tbody tr th:only-of-type {\n",
       "        vertical-align: middle;\n",
       "    }\n",
       "\n",
       "    .dataframe tbody tr th {\n",
       "        vertical-align: top;\n",
       "    }\n",
       "\n",
       "    .dataframe thead th {\n",
       "        text-align: right;\n",
       "    }\n",
       "</style>\n",
       "<table border=\"1\" class=\"dataframe\">\n",
       "  <thead>\n",
       "    <tr style=\"text-align: right;\">\n",
       "      <th></th>\n",
       "      <th>Price</th>\n",
       "      <th>Age</th>\n",
       "      <th>KM</th>\n",
       "      <th>FuelType</th>\n",
       "      <th>HP</th>\n",
       "      <th>MetColor</th>\n",
       "      <th>Automatic</th>\n",
       "      <th>CC</th>\n",
       "      <th>Doors</th>\n",
       "      <th>Weight</th>\n",
       "    </tr>\n",
       "  </thead>\n",
       "  <tbody>\n",
       "    <tr>\n",
       "      <th>0</th>\n",
       "      <td>13500</td>\n",
       "      <td>23.0</td>\n",
       "      <td>46986.0</td>\n",
       "      <td>Diesel</td>\n",
       "      <td>90.0</td>\n",
       "      <td>1.0</td>\n",
       "      <td>0</td>\n",
       "      <td>2000</td>\n",
       "      <td>three</td>\n",
       "      <td>1165</td>\n",
       "    </tr>\n",
       "    <tr>\n",
       "      <th>1</th>\n",
       "      <td>13750</td>\n",
       "      <td>23.0</td>\n",
       "      <td>72937.0</td>\n",
       "      <td>Diesel</td>\n",
       "      <td>90.0</td>\n",
       "      <td>1.0</td>\n",
       "      <td>0</td>\n",
       "      <td>2000</td>\n",
       "      <td>3</td>\n",
       "      <td>1165</td>\n",
       "    </tr>\n",
       "    <tr>\n",
       "      <th>2</th>\n",
       "      <td>13950</td>\n",
       "      <td>24.0</td>\n",
       "      <td>41711.0</td>\n",
       "      <td>Diesel</td>\n",
       "      <td>90.0</td>\n",
       "      <td>NaN</td>\n",
       "      <td>0</td>\n",
       "      <td>2000</td>\n",
       "      <td>3</td>\n",
       "      <td>1165</td>\n",
       "    </tr>\n",
       "    <tr>\n",
       "      <th>3</th>\n",
       "      <td>14950</td>\n",
       "      <td>26.0</td>\n",
       "      <td>48000.0</td>\n",
       "      <td>Diesel</td>\n",
       "      <td>90.0</td>\n",
       "      <td>0.0</td>\n",
       "      <td>0</td>\n",
       "      <td>2000</td>\n",
       "      <td>3</td>\n",
       "      <td>1165</td>\n",
       "    </tr>\n",
       "    <tr>\n",
       "      <th>4</th>\n",
       "      <td>13750</td>\n",
       "      <td>30.0</td>\n",
       "      <td>38500.0</td>\n",
       "      <td>Diesel</td>\n",
       "      <td>90.0</td>\n",
       "      <td>0.0</td>\n",
       "      <td>0</td>\n",
       "      <td>2000</td>\n",
       "      <td>3</td>\n",
       "      <td>1170</td>\n",
       "    </tr>\n",
       "    <tr>\n",
       "      <th>...</th>\n",
       "      <td>...</td>\n",
       "      <td>...</td>\n",
       "      <td>...</td>\n",
       "      <td>...</td>\n",
       "      <td>...</td>\n",
       "      <td>...</td>\n",
       "      <td>...</td>\n",
       "      <td>...</td>\n",
       "      <td>...</td>\n",
       "      <td>...</td>\n",
       "    </tr>\n",
       "    <tr>\n",
       "      <th>1431</th>\n",
       "      <td>7500</td>\n",
       "      <td>NaN</td>\n",
       "      <td>20544.0</td>\n",
       "      <td>Petrol</td>\n",
       "      <td>86.0</td>\n",
       "      <td>1.0</td>\n",
       "      <td>0</td>\n",
       "      <td>1300</td>\n",
       "      <td>3</td>\n",
       "      <td>1025</td>\n",
       "    </tr>\n",
       "    <tr>\n",
       "      <th>1432</th>\n",
       "      <td>10845</td>\n",
       "      <td>72.0</td>\n",
       "      <td>NaN</td>\n",
       "      <td>Petrol</td>\n",
       "      <td>86.0</td>\n",
       "      <td>0.0</td>\n",
       "      <td>0</td>\n",
       "      <td>1300</td>\n",
       "      <td>3</td>\n",
       "      <td>1015</td>\n",
       "    </tr>\n",
       "    <tr>\n",
       "      <th>1433</th>\n",
       "      <td>8500</td>\n",
       "      <td>NaN</td>\n",
       "      <td>17016.0</td>\n",
       "      <td>Petrol</td>\n",
       "      <td>86.0</td>\n",
       "      <td>0.0</td>\n",
       "      <td>0</td>\n",
       "      <td>1300</td>\n",
       "      <td>3</td>\n",
       "      <td>1015</td>\n",
       "    </tr>\n",
       "    <tr>\n",
       "      <th>1434</th>\n",
       "      <td>7250</td>\n",
       "      <td>70.0</td>\n",
       "      <td>NaN</td>\n",
       "      <td>NaN</td>\n",
       "      <td>86.0</td>\n",
       "      <td>1.0</td>\n",
       "      <td>0</td>\n",
       "      <td>1300</td>\n",
       "      <td>3</td>\n",
       "      <td>1015</td>\n",
       "    </tr>\n",
       "    <tr>\n",
       "      <th>1435</th>\n",
       "      <td>6950</td>\n",
       "      <td>76.0</td>\n",
       "      <td>1.0</td>\n",
       "      <td>Petrol</td>\n",
       "      <td>110.0</td>\n",
       "      <td>0.0</td>\n",
       "      <td>0</td>\n",
       "      <td>1600</td>\n",
       "      <td>5</td>\n",
       "      <td>1114</td>\n",
       "    </tr>\n",
       "  </tbody>\n",
       "</table>\n",
       "<p>1436 rows × 10 columns</p>\n",
       "</div>"
      ],
      "text/plain": [
       "      Price   Age       KM FuelType     HP  MetColor  Automatic    CC  Doors  \\\n",
       "0     13500  23.0  46986.0   Diesel   90.0       1.0          0  2000  three   \n",
       "1     13750  23.0  72937.0   Diesel   90.0       1.0          0  2000      3   \n",
       "2     13950  24.0  41711.0   Diesel   90.0       NaN          0  2000      3   \n",
       "3     14950  26.0  48000.0   Diesel   90.0       0.0          0  2000      3   \n",
       "4     13750  30.0  38500.0   Diesel   90.0       0.0          0  2000      3   \n",
       "...     ...   ...      ...      ...    ...       ...        ...   ...    ...   \n",
       "1431   7500   NaN  20544.0   Petrol   86.0       1.0          0  1300      3   \n",
       "1432  10845  72.0      NaN   Petrol   86.0       0.0          0  1300      3   \n",
       "1433   8500   NaN  17016.0   Petrol   86.0       0.0          0  1300      3   \n",
       "1434   7250  70.0      NaN      NaN   86.0       1.0          0  1300      3   \n",
       "1435   6950  76.0      1.0   Petrol  110.0       0.0          0  1600      5   \n",
       "\n",
       "      Weight  \n",
       "0       1165  \n",
       "1       1165  \n",
       "2       1165  \n",
       "3       1165  \n",
       "4       1170  \n",
       "...      ...  \n",
       "1431    1025  \n",
       "1432    1015  \n",
       "1433    1015  \n",
       "1434    1015  \n",
       "1435    1114  \n",
       "\n",
       "[1436 rows x 10 columns]"
      ]
     },
     "execution_count": 2,
     "metadata": {},
     "output_type": "execute_result"
    }
   ],
   "source": [
    "df=pd.read_csv('../input/carsalesdata/CarSales.csv',index_col=0,na_values=['??',\"????\"])\n",
    "df"
   ]
  },
  {
   "cell_type": "markdown",
   "id": "c16ee907",
   "metadata": {
    "papermill": {
     "duration": 0.019212,
     "end_time": "2022-06-18T18:17:20.874614",
     "exception": false,
     "start_time": "2022-06-18T18:17:20.855402",
     "status": "completed"
    },
    "tags": []
   },
   "source": [
    "All the unique values in the categorical features `Age, MetColor, Automatic and Doors` are extracted. "
   ]
  },
  {
   "cell_type": "code",
   "execution_count": 3,
   "id": "68cd89db",
   "metadata": {
    "_kg_hide-input": true,
    "execution": {
     "iopub.execute_input": "2022-06-18T18:17:20.915674Z",
     "iopub.status.busy": "2022-06-18T18:17:20.915203Z",
     "iopub.status.idle": "2022-06-18T18:17:20.926756Z",
     "shell.execute_reply": "2022-06-18T18:17:20.925214Z"
    },
    "papermill": {
     "duration": 0.036438,
     "end_time": "2022-06-18T18:17:20.930177",
     "exception": false,
     "start_time": "2022-06-18T18:17:20.893739",
     "status": "completed"
    },
    "tags": []
   },
   "outputs": [
    {
     "name": "stdout",
     "output_type": "stream",
     "text": [
      "Unique values of FuelType: ['Diesel' 'Petrol' nan 'CNG'] \n",
      "Unique values of MetColor: [ 1. nan  0.] \n",
      "Unique values of Automatic: [0 1] \n",
      "Unique values of Doors: ['three' '3' '5' '4' 'four' 'five' '2']\n"
     ]
    }
   ],
   "source": [
    "print(\"Unique values of FuelType:\",df['FuelType'].unique(),\n",
    "    \"\\nUnique values of MetColor:\",df['MetColor'].unique(),\n",
    "    \"\\nUnique values of Automatic:\",df['Automatic'].unique(),\n",
    "    \"\\nUnique values of Doors:\",df['Doors'].unique())"
   ]
  },
  {
   "cell_type": "markdown",
   "id": "850e3ab0",
   "metadata": {
    "papermill": {
     "duration": 0.018801,
     "end_time": "2022-06-18T18:17:20.968582",
     "exception": false,
     "start_time": "2022-06-18T18:17:20.949781",
     "status": "completed"
    },
    "tags": []
   },
   "source": [
    "##### Observations:\n",
    "\n",
    "* Number of Features: `10`\n",
    "* Target Feature: `Price` - Selling price of car ($)\n",
    "* Numerical Features: \n",
    "    * `Age` - Age of car in Years.\n",
    "    * `KM` - Distance driven in Kms\n",
    "    * `HP` - Power of Engine\n",
    "    * `CC` - Volume of Engine\n",
    "    * `Weight` - Weight in Kgs\n",
    "* Categorical Features: \n",
    "    * `MetColor` - Metallic Paint = 1,Non-Metallic Paint = 0\n",
    "    * `Automatic` - Automatic = 1,Manual = 0\n",
    "    * `FuelType` - Petrol, Diesel, CNG\n",
    "* Ordinal Features:\n",
    "    * `Doors` - No. of doors = 2,3,4,5 *(Multiple values are in form of words instead of numbers)*"
   ]
  },
  {
   "cell_type": "code",
   "execution_count": 4,
   "id": "477d4f3f",
   "metadata": {
    "execution": {
     "iopub.execute_input": "2022-06-18T18:17:21.008197Z",
     "iopub.status.busy": "2022-06-18T18:17:21.007817Z",
     "iopub.status.idle": "2022-06-18T18:17:21.046944Z",
     "shell.execute_reply": "2022-06-18T18:17:21.045714Z"
    },
    "papermill": {
     "duration": 0.061854,
     "end_time": "2022-06-18T18:17:21.049251",
     "exception": false,
     "start_time": "2022-06-18T18:17:20.987397",
     "status": "completed"
    },
    "tags": []
   },
   "outputs": [
    {
     "data": {
      "text/html": [
       "<div>\n",
       "<style scoped>\n",
       "    .dataframe tbody tr th:only-of-type {\n",
       "        vertical-align: middle;\n",
       "    }\n",
       "\n",
       "    .dataframe tbody tr th {\n",
       "        vertical-align: top;\n",
       "    }\n",
       "\n",
       "    .dataframe thead th {\n",
       "        text-align: right;\n",
       "    }\n",
       "</style>\n",
       "<table border=\"1\" class=\"dataframe\">\n",
       "  <thead>\n",
       "    <tr style=\"text-align: right;\">\n",
       "      <th></th>\n",
       "      <th>Price</th>\n",
       "      <th>Age</th>\n",
       "      <th>KM</th>\n",
       "      <th>HP</th>\n",
       "      <th>MetColor</th>\n",
       "      <th>Automatic</th>\n",
       "      <th>CC</th>\n",
       "      <th>Weight</th>\n",
       "    </tr>\n",
       "  </thead>\n",
       "  <tbody>\n",
       "    <tr>\n",
       "      <th>count</th>\n",
       "      <td>1436.000000</td>\n",
       "      <td>1336.000000</td>\n",
       "      <td>1421.000000</td>\n",
       "      <td>1430.000000</td>\n",
       "      <td>1286.000000</td>\n",
       "      <td>1436.000000</td>\n",
       "      <td>1436.000000</td>\n",
       "      <td>1436.00000</td>\n",
       "    </tr>\n",
       "    <tr>\n",
       "      <th>mean</th>\n",
       "      <td>10730.824513</td>\n",
       "      <td>55.672156</td>\n",
       "      <td>68647.239972</td>\n",
       "      <td>101.478322</td>\n",
       "      <td>0.674961</td>\n",
       "      <td>0.055710</td>\n",
       "      <td>1566.827994</td>\n",
       "      <td>1072.45961</td>\n",
       "    </tr>\n",
       "    <tr>\n",
       "      <th>std</th>\n",
       "      <td>3626.964585</td>\n",
       "      <td>18.589804</td>\n",
       "      <td>37333.023589</td>\n",
       "      <td>14.768255</td>\n",
       "      <td>0.468572</td>\n",
       "      <td>0.229441</td>\n",
       "      <td>187.182436</td>\n",
       "      <td>52.64112</td>\n",
       "    </tr>\n",
       "    <tr>\n",
       "      <th>min</th>\n",
       "      <td>4350.000000</td>\n",
       "      <td>1.000000</td>\n",
       "      <td>1.000000</td>\n",
       "      <td>69.000000</td>\n",
       "      <td>0.000000</td>\n",
       "      <td>0.000000</td>\n",
       "      <td>1300.000000</td>\n",
       "      <td>1000.00000</td>\n",
       "    </tr>\n",
       "    <tr>\n",
       "      <th>25%</th>\n",
       "      <td>8450.000000</td>\n",
       "      <td>43.000000</td>\n",
       "      <td>43210.000000</td>\n",
       "      <td>90.000000</td>\n",
       "      <td>0.000000</td>\n",
       "      <td>0.000000</td>\n",
       "      <td>1400.000000</td>\n",
       "      <td>1040.00000</td>\n",
       "    </tr>\n",
       "    <tr>\n",
       "      <th>50%</th>\n",
       "      <td>9900.000000</td>\n",
       "      <td>60.000000</td>\n",
       "      <td>63634.000000</td>\n",
       "      <td>110.000000</td>\n",
       "      <td>1.000000</td>\n",
       "      <td>0.000000</td>\n",
       "      <td>1600.000000</td>\n",
       "      <td>1070.00000</td>\n",
       "    </tr>\n",
       "    <tr>\n",
       "      <th>75%</th>\n",
       "      <td>11950.000000</td>\n",
       "      <td>70.000000</td>\n",
       "      <td>87000.000000</td>\n",
       "      <td>110.000000</td>\n",
       "      <td>1.000000</td>\n",
       "      <td>0.000000</td>\n",
       "      <td>1600.000000</td>\n",
       "      <td>1085.00000</td>\n",
       "    </tr>\n",
       "    <tr>\n",
       "      <th>max</th>\n",
       "      <td>32500.000000</td>\n",
       "      <td>80.000000</td>\n",
       "      <td>243000.000000</td>\n",
       "      <td>192.000000</td>\n",
       "      <td>1.000000</td>\n",
       "      <td>1.000000</td>\n",
       "      <td>2000.000000</td>\n",
       "      <td>1615.00000</td>\n",
       "    </tr>\n",
       "  </tbody>\n",
       "</table>\n",
       "</div>"
      ],
      "text/plain": [
       "              Price          Age             KM           HP     MetColor  \\\n",
       "count   1436.000000  1336.000000    1421.000000  1430.000000  1286.000000   \n",
       "mean   10730.824513    55.672156   68647.239972   101.478322     0.674961   \n",
       "std     3626.964585    18.589804   37333.023589    14.768255     0.468572   \n",
       "min     4350.000000     1.000000       1.000000    69.000000     0.000000   \n",
       "25%     8450.000000    43.000000   43210.000000    90.000000     0.000000   \n",
       "50%     9900.000000    60.000000   63634.000000   110.000000     1.000000   \n",
       "75%    11950.000000    70.000000   87000.000000   110.000000     1.000000   \n",
       "max    32500.000000    80.000000  243000.000000   192.000000     1.000000   \n",
       "\n",
       "         Automatic           CC      Weight  \n",
       "count  1436.000000  1436.000000  1436.00000  \n",
       "mean      0.055710  1566.827994  1072.45961  \n",
       "std       0.229441   187.182436    52.64112  \n",
       "min       0.000000  1300.000000  1000.00000  \n",
       "25%       0.000000  1400.000000  1040.00000  \n",
       "50%       0.000000  1600.000000  1070.00000  \n",
       "75%       0.000000  1600.000000  1085.00000  \n",
       "max       1.000000  2000.000000  1615.00000  "
      ]
     },
     "execution_count": 4,
     "metadata": {},
     "output_type": "execute_result"
    }
   ],
   "source": [
    "df.describe()"
   ]
  },
  {
   "cell_type": "code",
   "execution_count": 5,
   "id": "51f77662",
   "metadata": {
    "execution": {
     "iopub.execute_input": "2022-06-18T18:17:21.090559Z",
     "iopub.status.busy": "2022-06-18T18:17:21.090078Z",
     "iopub.status.idle": "2022-06-18T18:17:21.099590Z",
     "shell.execute_reply": "2022-06-18T18:17:21.098870Z"
    },
    "papermill": {
     "duration": 0.03228,
     "end_time": "2022-06-18T18:17:21.101464",
     "exception": false,
     "start_time": "2022-06-18T18:17:21.069184",
     "status": "completed"
    },
    "tags": []
   },
   "outputs": [
    {
     "data": {
      "text/plain": [
       "Price          0\n",
       "Age          100\n",
       "KM            15\n",
       "FuelType      98\n",
       "HP             6\n",
       "MetColor     150\n",
       "Automatic      0\n",
       "CC             0\n",
       "Doors          0\n",
       "Weight         0\n",
       "dtype: int64"
      ]
     },
     "execution_count": 5,
     "metadata": {},
     "output_type": "execute_result"
    }
   ],
   "source": [
    "df.isnull().sum()"
   ]
  },
  {
   "cell_type": "markdown",
   "id": "94128965",
   "metadata": {
    "papermill": {
     "duration": 0.019625,
     "end_time": "2022-06-18T18:17:21.141382",
     "exception": false,
     "start_time": "2022-06-18T18:17:21.121757",
     "status": "completed"
    },
    "tags": []
   },
   "source": [
    "##### Observations:\n",
    "* `Age`, `FuelType` and `MetColor` have to be carefully imputated as they have a large number of null values.\n",
    "* `KM` and `HP` can be imputated with more ease as they have a low number of null values."
   ]
  },
  {
   "cell_type": "markdown",
   "id": "08f6a2ac",
   "metadata": {
    "papermill": {
     "duration": 0.02047,
     "end_time": "2022-06-18T18:17:21.181998",
     "exception": false,
     "start_time": "2022-06-18T18:17:21.161528",
     "status": "completed"
    },
    "tags": []
   },
   "source": [
    "***\n",
    "\n",
    "<a id='cleaning'></a>\n",
    "## <div style='text-align: center;'> 2. Cleaning and Visualising the Dataset </div>"
   ]
  },
  {
   "cell_type": "markdown",
   "id": "baa2c6f2",
   "metadata": {
    "papermill": {
     "duration": 0.01945,
     "end_time": "2022-06-18T18:17:21.222113",
     "exception": false,
     "start_time": "2022-06-18T18:17:21.202663",
     "status": "completed"
    },
    "tags": []
   },
   "source": [
    "### Feature Cleaning and Univariate Analysis"
   ]
  },
  {
   "cell_type": "markdown",
   "id": "000d8720",
   "metadata": {
    "papermill": {
     "duration": 0.019682,
     "end_time": "2022-06-18T18:17:21.262675",
     "exception": false,
     "start_time": "2022-06-18T18:17:21.242993",
     "status": "completed"
    },
    "tags": []
   },
   "source": [
    "#### 1. Age\n",
    "\n",
    "By visualising `Age` we can choose the method of imputation and whether to divide the feature."
   ]
  },
  {
   "cell_type": "code",
   "execution_count": 6,
   "id": "459cdc8d",
   "metadata": {
    "execution": {
     "iopub.execute_input": "2022-06-18T18:17:21.305720Z",
     "iopub.status.busy": "2022-06-18T18:17:21.304570Z",
     "iopub.status.idle": "2022-06-18T18:17:22.852380Z",
     "shell.execute_reply": "2022-06-18T18:17:22.851187Z"
    },
    "papermill": {
     "duration": 1.572382,
     "end_time": "2022-06-18T18:17:22.855382",
     "exception": false,
     "start_time": "2022-06-18T18:17:21.283000",
     "status": "completed"
    },
    "tags": []
   },
   "outputs": [
    {
     "data": {
      "image/png": "[encoded data removed]",
      "text/plain": [
       "<Figure size 1296x288 with 3 Axes>"
      ]
     },
     "metadata": {
      "needs_background": "light"
     },
     "output_type": "display_data"
    }
   ],
   "source": [
    "pal=['#222831','#00ADB5','#FF8C32','#DDDDDD','#EEEEEE']\n",
    "\n",
    "fig=plt.figure(figsize=(18,4))\n",
    "gs=fig.add_gridspec(1,3)\n",
    "gs.update(wspace=0.3)\n",
    "ax0=fig.add_subplot(gs[0,0])\n",
    "ax1=fig.add_subplot(gs[0,1])\n",
    "ax2=fig.add_subplot(gs[0,2])\n",
    "\n",
    "ax0.grid(color='#001B48', linestyle=':', axis='x', zorder=0,  dashes=(1,3))\n",
    "ax1.grid(color='#001B48', linestyle=':', axis='y', zorder=0, dashes=(1,3))\n",
    "ax2.grid(color='#001B48', linestyle=':', axis='y', zorder=0, dashes=(1,3))\n",
    "\n",
    "ax0=sns.kdeplot(ax=ax0,data=df,x='Age',y='Price',fill=True,color='#24a7ad')\n",
    "ax1=sns.boxplot(ax=ax1,data=df,x='Age',color='#24a7ad')\n",
    "ax2=sns.scatterplot(ax=ax2,data=df,x='Age',y='Price',color='#24a7ad')"
   ]
  },
  {
   "cell_type": "markdown",
   "id": "69a40ba4",
   "metadata": {
    "papermill": {
     "duration": 0.020244,
     "end_time": "2022-06-18T18:17:22.897078",
     "exception": false,
     "start_time": "2022-06-18T18:17:22.876834",
     "status": "completed"
    },
    "tags": []
   },
   "source": [
    "##### Observations:\n",
    "* Through Boxplot we understand that more than 50% of cars had their `Age` between 42 and 69.\n",
    "* The DensityPlot and ScatterPlot show that although a large number of cars had their `Age` below 60 an unspecified age may very well be closest to 60.\n",
    "* Therefore it's reasonable to replace the missing values of `Age` with Median instead of Mean."
   ]
  },
  {
   "cell_type": "code",
   "execution_count": 7,
   "id": "5670338b",
   "metadata": {
    "execution": {
     "iopub.execute_input": "2022-06-18T18:17:22.940277Z",
     "iopub.status.busy": "2022-06-18T18:17:22.939840Z",
     "iopub.status.idle": "2022-06-18T18:17:22.959256Z",
     "shell.execute_reply": "2022-06-18T18:17:22.958548Z"
    },
    "papermill": {
     "duration": 0.04328,
     "end_time": "2022-06-18T18:17:22.961176",
     "exception": false,
     "start_time": "2022-06-18T18:17:22.917896",
     "status": "completed"
    },
    "tags": []
   },
   "outputs": [
    {
     "data": {
      "text/html": [
       "<div>\n",
       "<style scoped>\n",
       "    .dataframe tbody tr th:only-of-type {\n",
       "        vertical-align: middle;\n",
       "    }\n",
       "\n",
       "    .dataframe tbody tr th {\n",
       "        vertical-align: top;\n",
       "    }\n",
       "\n",
       "    .dataframe thead th {\n",
       "        text-align: right;\n",
       "    }\n",
       "</style>\n",
       "<table border=\"1\" class=\"dataframe\">\n",
       "  <thead>\n",
       "    <tr style=\"text-align: right;\">\n",
       "      <th></th>\n",
       "      <th>Price</th>\n",
       "      <th>Age</th>\n",
       "      <th>KM</th>\n",
       "      <th>FuelType</th>\n",
       "      <th>HP</th>\n",
       "      <th>MetColor</th>\n",
       "      <th>Automatic</th>\n",
       "      <th>CC</th>\n",
       "      <th>Doors</th>\n",
       "      <th>Weight</th>\n",
       "    </tr>\n",
       "  </thead>\n",
       "  <tbody>\n",
       "    <tr>\n",
       "      <th>0</th>\n",
       "      <td>13500</td>\n",
       "      <td>23.0</td>\n",
       "      <td>46986.0</td>\n",
       "      <td>Diesel</td>\n",
       "      <td>90.0</td>\n",
       "      <td>1.0</td>\n",
       "      <td>0</td>\n",
       "      <td>2000</td>\n",
       "      <td>three</td>\n",
       "      <td>1165</td>\n",
       "    </tr>\n",
       "    <tr>\n",
       "      <th>1</th>\n",
       "      <td>13750</td>\n",
       "      <td>23.0</td>\n",
       "      <td>72937.0</td>\n",
       "      <td>Diesel</td>\n",
       "      <td>90.0</td>\n",
       "      <td>1.0</td>\n",
       "      <td>0</td>\n",
       "      <td>2000</td>\n",
       "      <td>3</td>\n",
       "      <td>1165</td>\n",
       "    </tr>\n",
       "    <tr>\n",
       "      <th>2</th>\n",
       "      <td>13950</td>\n",
       "      <td>24.0</td>\n",
       "      <td>41711.0</td>\n",
       "      <td>Diesel</td>\n",
       "      <td>90.0</td>\n",
       "      <td>NaN</td>\n",
       "      <td>0</td>\n",
       "      <td>2000</td>\n",
       "      <td>3</td>\n",
       "      <td>1165</td>\n",
       "    </tr>\n",
       "    <tr>\n",
       "      <th>3</th>\n",
       "      <td>14950</td>\n",
       "      <td>26.0</td>\n",
       "      <td>48000.0</td>\n",
       "      <td>Diesel</td>\n",
       "      <td>90.0</td>\n",
       "      <td>0.0</td>\n",
       "      <td>0</td>\n",
       "      <td>2000</td>\n",
       "      <td>3</td>\n",
       "      <td>1165</td>\n",
       "    </tr>\n",
       "    <tr>\n",
       "      <th>4</th>\n",
       "      <td>13750</td>\n",
       "      <td>30.0</td>\n",
       "      <td>38500.0</td>\n",
       "      <td>Diesel</td>\n",
       "      <td>90.0</td>\n",
       "      <td>0.0</td>\n",
       "      <td>0</td>\n",
       "      <td>2000</td>\n",
       "      <td>3</td>\n",
       "      <td>1170</td>\n",
       "    </tr>\n",
       "  </tbody>\n",
       "</table>\n",
       "</div>"
      ],
      "text/plain": [
       "   Price   Age       KM FuelType    HP  MetColor  Automatic    CC  Doors  \\\n",
       "0  13500  23.0  46986.0   Diesel  90.0       1.0          0  2000  three   \n",
       "1  13750  23.0  72937.0   Diesel  90.0       1.0          0  2000      3   \n",
       "2  13950  24.0  41711.0   Diesel  90.0       NaN          0  2000      3   \n",
       "3  14950  26.0  48000.0   Diesel  90.0       0.0          0  2000      3   \n",
       "4  13750  30.0  38500.0   Diesel  90.0       0.0          0  2000      3   \n",
       "\n",
       "   Weight  \n",
       "0    1165  \n",
       "1    1165  \n",
       "2    1165  \n",
       "3    1165  \n",
       "4    1170  "
      ]
     },
     "execution_count": 7,
     "metadata": {},
     "output_type": "execute_result"
    }
   ],
   "source": [
    "df['Age'].fillna(df['Age'].median(),inplace=True)\n",
    "df.head()"
   ]
  },
  {
   "cell_type": "markdown",
   "id": "0341f3bb",
   "metadata": {
    "papermill": {
     "duration": 0.020319,
     "end_time": "2022-06-18T18:17:23.002330",
     "exception": false,
     "start_time": "2022-06-18T18:17:22.982011",
     "status": "completed"
    },
    "tags": []
   },
   "source": [
    "##### Observation:\n",
    "* The HistPlot shows that Price decreases with `Age` hence Age-Bands can be created so that cars with similar ages can be grouped in a single band.\n",
    "* Therefore it's feasible to create bands based on the assumption that small changes in `Age` don't have a reasonable effect on Price.\n",
    "* Also we don't observe sudden jumps or falls in the `Price` with respect to `Age` in the HistPlot thus supporting the decision of creating AgeBands."
   ]
  },
  {
   "cell_type": "code",
   "execution_count": 8,
   "id": "1ffe8431",
   "metadata": {
    "execution": {
     "iopub.execute_input": "2022-06-18T18:17:23.046014Z",
     "iopub.status.busy": "2022-06-18T18:17:23.044966Z",
     "iopub.status.idle": "2022-06-18T18:17:23.061262Z",
     "shell.execute_reply": "2022-06-18T18:17:23.060504Z"
    },
    "papermill": {
     "duration": 0.040893,
     "end_time": "2022-06-18T18:17:23.064063",
     "exception": false,
     "start_time": "2022-06-18T18:17:23.023170",
     "status": "completed"
    },
    "tags": []
   },
   "outputs": [
    {
     "name": "stdout",
     "output_type": "stream",
     "text": [
      "AgeBands created:\n",
      "(16.8, 32.6]\n",
      "(48.4, 64.2]\n",
      "(0.921, 16.8]\n",
      "(32.6, 48.4]\n",
      "(64.2, 80.0]\n"
     ]
    }
   ],
   "source": [
    "df['AgeBand']=pd.cut(df['Age'],bins=5)\n",
    "uniques=df['AgeBand'].unique()\n",
    "print(\"AgeBands created:\")\n",
    "for i in uniques:\n",
    "    print(i)"
   ]
  },
  {
   "cell_type": "markdown",
   "id": "56c8268c",
   "metadata": {
    "papermill": {
     "duration": 0.020792,
     "end_time": "2022-06-18T18:17:23.106901",
     "exception": false,
     "start_time": "2022-06-18T18:17:23.086109",
     "status": "completed"
    },
    "tags": []
   },
   "source": [
    "Now we can replace each element of `Age` by a weight according to it's respective AgeBand. "
   ]
  },
  {
   "cell_type": "code",
   "execution_count": 9,
   "id": "c075882d",
   "metadata": {
    "execution": {
     "iopub.execute_input": "2022-06-18T18:17:23.150426Z",
     "iopub.status.busy": "2022-06-18T18:17:23.150018Z",
     "iopub.status.idle": "2022-06-18T18:17:23.385072Z",
     "shell.execute_reply": "2022-06-18T18:17:23.384226Z"
    },
    "papermill": {
     "duration": 0.259036,
     "end_time": "2022-06-18T18:17:23.387296",
     "exception": false,
     "start_time": "2022-06-18T18:17:23.128260",
     "status": "completed"
    },
    "tags": []
   },
   "outputs": [
    {
     "data": {
      "image/png": "[encoded data removed]",
      "text/plain": [
       "<Figure size 288x288 with 1 Axes>"
      ]
     },
     "metadata": {
      "needs_background": "light"
     },
     "output_type": "display_data"
    }
   ],
   "source": [
    "df.loc[df['Age'] <= 16.8,'Age'] = 1\n",
    "df.loc[(df['Age'] > 16.8) & (df['Age'] <= 32.6),'Age'] = 2\n",
    "df.loc[(df['Age'] > 32.6) & (df['Age'] <= 48.4),'Age'] = 3\n",
    "df.loc[(df['Age'] > 48.4) & (df['Age'] <= 64.2),'Age'] = 4\n",
    "df.loc[(df['Age'] > 64.2) & (df['Age'] <= 80.0),'Age'] = 5\n",
    "df=df.drop(['AgeBand'],axis=1)\n",
    "\n",
    "fig=plt.figure(figsize=(4,4))\n",
    "gs=fig.add_gridspec(1,1)\n",
    "ax0=fig.add_subplot(gs[0,0])\n",
    "\n",
    "ax0.grid(color='#001B48', linestyle=':', axis='y', zorder=0,  dashes=(1,3))\n",
    "ax0=sns.stripplot(ax=ax0,data=df,x='Age',y='Price',color='#24a7ad')"
   ]
  },
  {
   "cell_type": "markdown",
   "id": "0c126490",
   "metadata": {
    "papermill": {
     "duration": 0.021974,
     "end_time": "2022-06-18T18:17:23.430997",
     "exception": false,
     "start_time": "2022-06-18T18:17:23.409023",
     "status": "completed"
    },
    "tags": []
   },
   "source": [
    "#### 2. KMs\n",
    "\n",
    "Through this step we can choose how to imputate and whether to divide or drop the `KM` feature."
   ]
  },
  {
   "cell_type": "code",
   "execution_count": 10,
   "id": "5ea2f4d9",
   "metadata": {
    "execution": {
     "iopub.execute_input": "2022-06-18T18:17:23.477298Z",
     "iopub.status.busy": "2022-06-18T18:17:23.476492Z",
     "iopub.status.idle": "2022-06-18T18:17:24.970692Z",
     "shell.execute_reply": "2022-06-18T18:17:24.969820Z"
    },
    "papermill": {
     "duration": 1.520167,
     "end_time": "2022-06-18T18:17:24.973070",
     "exception": false,
     "start_time": "2022-06-18T18:17:23.452903",
     "status": "completed"
    },
    "tags": []
   },
   "outputs": [
    {
     "data": {
      "image/png": "[encoded data removed]",
      "text/plain": [
       "<Figure size 1296x432 with 3 Axes>"
      ]
     },
     "metadata": {
      "needs_background": "light"
     },
     "output_type": "display_data"
    }
   ],
   "source": [
    "fig=plt.figure(figsize=(18,6))\n",
    "gs = fig.add_gridspec(1,3)\n",
    "gs.update(wspace=0.3,hspace=0.15)\n",
    "\n",
    "ax0=fig.add_subplot(gs[0,0])\n",
    "ax1=fig.add_subplot(gs[0,1])\n",
    "ax2=fig.add_subplot(gs[0,2])\n",
    "\n",
    "ax0.grid(color='#001B48', linestyle=':', axis='x', zorder=0, dashes=(1,3))\n",
    "ax1.grid(color='#001B48', linestyle=':', axis='y', zorder=0, dashes=(1,3))\n",
    "ax2.grid(color='#001B48', linestyle=':', axis='x', zorder=0, dashes=(1,3))\n",
    "\n",
    "ax0=sns.boxplot (ax=ax0, data=df, x='KM', color='#24a7ad')\n",
    "ax1=sns.scatterplot(ax=ax1, data=df, x='KM',y='Price', color='#24a7ad')\n",
    "ax2=sns.kdeplot(ax=ax2, data=df, x='KM',y='Price',fill=True, color='#24a7ad')"
   ]
  },
  {
   "cell_type": "markdown",
   "id": "11b0bde3",
   "metadata": {
    "papermill": {
     "duration": 0.024713,
     "end_time": "2022-06-18T18:17:25.020751",
     "exception": false,
     "start_time": "2022-06-18T18:17:24.996038",
     "status": "completed"
    },
    "tags": []
   },
   "source": [
    "##### Observations:\n",
    "* The ScatterPlot and Density-Plot shows the majority of distribution of `KM` is around the Mean.\n",
    "* The BoxPlot shows that mean and median are very close to each other.\n",
    "* Thus it is established that both, the mean as well as the median can effectively represent the missing values.\n",
    "* Therefore, replacing the null values in `KM` by it's Mean is as effective as replacing them by it's Median.\n",
    "* Here it's unnecessary to create bands of cars with similar distance driven as there are high differences in `Price` for cars with similar values of `KM`."
   ]
  },
  {
   "cell_type": "code",
   "execution_count": 11,
   "id": "829dc64a",
   "metadata": {
    "execution": {
     "iopub.execute_input": "2022-06-18T18:17:25.069232Z",
     "iopub.status.busy": "2022-06-18T18:17:25.068574Z",
     "iopub.status.idle": "2022-06-18T18:17:25.074103Z",
     "shell.execute_reply": "2022-06-18T18:17:25.072902Z"
    },
    "papermill": {
     "duration": 0.032322,
     "end_time": "2022-06-18T18:17:25.076378",
     "exception": false,
     "start_time": "2022-06-18T18:17:25.044056",
     "status": "completed"
    },
    "tags": []
   },
   "outputs": [],
   "source": [
    "df['KM'].fillna(df['KM'].mean(),inplace=True)"
   ]
  },
  {
   "cell_type": "markdown",
   "id": "a33b6e4a",
   "metadata": {
    "papermill": {
     "duration": 0.022069,
     "end_time": "2022-06-18T18:17:25.121162",
     "exception": false,
     "start_time": "2022-06-18T18:17:25.099093",
     "status": "completed"
    },
    "tags": []
   },
   "source": [
    "#### 3. FuelType\n",
    "\n",
    "As FuelType has a lot of null values the primary objective is to identify the method of imputation."
   ]
  },
  {
   "cell_type": "code",
   "execution_count": 12,
   "id": "5717f4ca",
   "metadata": {
    "execution": {
     "iopub.execute_input": "2022-06-18T18:17:25.168540Z",
     "iopub.status.busy": "2022-06-18T18:17:25.168105Z",
     "iopub.status.idle": "2022-06-18T18:17:25.490319Z",
     "shell.execute_reply": "2022-06-18T18:17:25.489348Z"
    },
    "papermill": {
     "duration": 0.348396,
     "end_time": "2022-06-18T18:17:25.492497",
     "exception": false,
     "start_time": "2022-06-18T18:17:25.144101",
     "status": "completed"
    },
    "tags": []
   },
   "outputs": [
    {
     "data": {
      "image/png": "[encoded data removed]",
      "text/plain": [
       "<Figure size 864x432 with 2 Axes>"
      ]
     },
     "metadata": {
      "needs_background": "light"
     },
     "output_type": "display_data"
    }
   ],
   "source": [
    "fig=plt.figure(figsize=(12,6))\n",
    "gs = fig.add_gridspec(1,2)\n",
    "gs.update(wspace=0.3,hspace=0.15)\n",
    "\n",
    "ax0=fig.add_subplot(gs[0,0])\n",
    "ax1=fig.add_subplot(gs[0,1])\n",
    "\n",
    "ax0.grid(color='#001B48', linestyle=':', axis='x', zorder=0,  dashes=(1,3))\n",
    "ax1.grid(color='#001B48', linestyle=':', axis='y', zorder=0, dashes=(1,3))\n",
    "\n",
    "ax0=sns.countplot(ax=ax0,data=df,x='FuelType',palette=pal)\n",
    "ax1=sns.stripplot(ax=ax1,data=df,x='Price',y='FuelType',palette=pal)"
   ]
  },
  {
   "cell_type": "markdown",
   "id": "537cab6c",
   "metadata": {
    "papermill": {
     "duration": 0.022468,
     "end_time": "2022-06-18T18:17:25.538084",
     "exception": false,
     "start_time": "2022-06-18T18:17:25.515616",
     "status": "completed"
    },
    "tags": []
   },
   "source": [
    "##### Observation:\n",
    "* Being a categorical dataset, it can be seen than any null value is most likely to be the mode of the distribution.\n",
    "* Hence the null values are filled by the mode i.e `Petrol`."
   ]
  },
  {
   "cell_type": "code",
   "execution_count": 13,
   "id": "159ec0a8",
   "metadata": {
    "execution": {
     "iopub.execute_input": "2022-06-18T18:17:25.586797Z",
     "iopub.status.busy": "2022-06-18T18:17:25.586351Z",
     "iopub.status.idle": "2022-06-18T18:17:25.592899Z",
     "shell.execute_reply": "2022-06-18T18:17:25.591741Z"
    },
    "papermill": {
     "duration": 0.033545,
     "end_time": "2022-06-18T18:17:25.595107",
     "exception": false,
     "start_time": "2022-06-18T18:17:25.561562",
     "status": "completed"
    },
    "tags": []
   },
   "outputs": [],
   "source": [
    "df['FuelType'].fillna(df['FuelType'].mode()[0],inplace=True)"
   ]
  },
  {
   "cell_type": "markdown",
   "id": "83c8f28e",
   "metadata": {
    "papermill": {
     "duration": 0.022849,
     "end_time": "2022-06-18T18:17:25.641104",
     "exception": false,
     "start_time": "2022-06-18T18:17:25.618255",
     "status": "completed"
    },
    "tags": []
   },
   "source": [
    "#### 4. HP\n",
    "\n",
    "Now we look at the distribution of HP to further understand how to fill the null values and whether to divide the data or not."
   ]
  },
  {
   "cell_type": "code",
   "execution_count": 14,
   "id": "78621f92",
   "metadata": {
    "execution": {
     "iopub.execute_input": "2022-06-18T18:17:25.689142Z",
     "iopub.status.busy": "2022-06-18T18:17:25.688716Z",
     "iopub.status.idle": "2022-06-18T18:17:26.102950Z",
     "shell.execute_reply": "2022-06-18T18:17:26.101921Z"
    },
    "papermill": {
     "duration": 0.441479,
     "end_time": "2022-06-18T18:17:26.105834",
     "exception": false,
     "start_time": "2022-06-18T18:17:25.664355",
     "status": "completed"
    },
    "tags": []
   },
   "outputs": [
    {
     "data": {
      "image/png": "[encoded data removed]",
      "text/plain": [
       "<Figure size 864x432 with 2 Axes>"
      ]
     },
     "metadata": {
      "needs_background": "light"
     },
     "output_type": "display_data"
    }
   ],
   "source": [
    "fig=plt.figure(figsize=(12,6))\n",
    "gs = fig.add_gridspec(1,2)\n",
    "gs.update(wspace=0.2,hspace=0.15)\n",
    "\n",
    "ax0=fig.add_subplot(gs[0,0])\n",
    "ax1=fig.add_subplot(gs[0,1])\n",
    "\n",
    "ax0.grid(color='#001B48', linestyle=':', axis='y', zorder=0, dashes=(1,3))\n",
    "ax1.grid(color='#001B48', linestyle=':', axis='x', zorder=0, dashes=(1,3))\n",
    "\n",
    "ax0=sns.histplot(ax=ax0,data=df['HP'], bins=6, color='#24a7ad')\n",
    "ax1=sns.scatterplot(ax=ax1,data=df,x='HP',y='Price', color='#24a7ad')"
   ]
  },
  {
   "cell_type": "markdown",
   "id": "b373e5a1",
   "metadata": {
    "papermill": {
     "duration": 0.023625,
     "end_time": "2022-06-18T18:17:26.153573",
     "exception": false,
     "start_time": "2022-06-18T18:17:26.129948",
     "status": "completed"
    },
    "tags": []
   },
   "source": [
    "##### Observation:\n",
    "* It is observed that the mean of HP would not properly represent the missing values as:\n",
    "    * It is distributed very evenly in a large area between 40 and 110.\n",
    "    * This may result in the null values being misrepresented as a less-likely value.\n",
    "* Therefore the null values are filled with the median of the distribution to minimise the error.\n",
    "* We can also create groups of cars with similar HP as multiple cars with similar power are more likely to have the same selling price."
   ]
  },
  {
   "cell_type": "code",
   "execution_count": 15,
   "id": "0050d318",
   "metadata": {
    "execution": {
     "iopub.execute_input": "2022-06-18T18:17:26.205188Z",
     "iopub.status.busy": "2022-06-18T18:17:26.204505Z",
     "iopub.status.idle": "2022-06-18T18:17:26.217870Z",
     "shell.execute_reply": "2022-06-18T18:17:26.215872Z"
    },
    "papermill": {
     "duration": 0.04262,
     "end_time": "2022-06-18T18:17:26.220686",
     "exception": false,
     "start_time": "2022-06-18T18:17:26.178066",
     "status": "completed"
    },
    "tags": []
   },
   "outputs": [
    {
     "name": "stdout",
     "output_type": "stream",
     "text": [
      "HP Bands:\n",
      "(89.5, 110.0]\n",
      "(171.5, 192.0]\n",
      "(68.877, 89.5]\n",
      "(110.0, 130.5]\n"
     ]
    }
   ],
   "source": [
    "df['HP'].fillna(df['HP'].median(),inplace=True)\n",
    "df['HPBand']=pd.cut(df['HP'],bins=6)\n",
    "uniques=df['HPBand'].unique()\n",
    "print(\"HP Bands:\")\n",
    "for i in uniques:\n",
    "    print(i)"
   ]
  },
  {
   "cell_type": "markdown",
   "id": "8b8f1727",
   "metadata": {
    "papermill": {
     "duration": 0.023331,
     "end_time": "2022-06-18T18:17:26.268792",
     "exception": false,
     "start_time": "2022-06-18T18:17:26.245461",
     "status": "completed"
    },
    "tags": []
   },
   "source": [
    "* Now we create 4 different bands of HP using these boundary values.\n",
    "* The final band will get a weight of 6 as it's the 6th band while band 4 and 5 contain no elements. "
   ]
  },
  {
   "cell_type": "code",
   "execution_count": 16,
   "id": "d8ffa164",
   "metadata": {
    "execution": {
     "iopub.execute_input": "2022-06-18T18:17:26.319600Z",
     "iopub.status.busy": "2022-06-18T18:17:26.318998Z",
     "iopub.status.idle": "2022-06-18T18:17:26.623647Z",
     "shell.execute_reply": "2022-06-18T18:17:26.622431Z"
    },
    "papermill": {
     "duration": 0.33343,
     "end_time": "2022-06-18T18:17:26.626092",
     "exception": false,
     "start_time": "2022-06-18T18:17:26.292662",
     "status": "completed"
    },
    "tags": []
   },
   "outputs": [
    {
     "data": {
      "image/png": "[encoded data removed]",
      "text/plain": [
       "<Figure size 720x360 with 2 Axes>"
      ]
     },
     "metadata": {
      "needs_background": "light"
     },
     "output_type": "display_data"
    }
   ],
   "source": [
    "df.loc[(df['HP']>=68.877) & (df['HP']<=89.5),'HP']=1\n",
    "df.loc[(df['HP']> 89.5) & (df['HP'] <=110.0),'HP']=2\n",
    "df.loc[(df['HP']> 110.0) & (df['HP']<=130.5),'HP']=3\n",
    "df.loc[(df['HP']>= 171.5) & (df['HP']<=192.0),'HP']=6\n",
    "df=df.drop('HPBand',axis=1)\n",
    "\n",
    "fig=plt.figure(figsize=(10,5))\n",
    "gs = fig.add_gridspec(1,2)\n",
    "gs.update(wspace=0.2,hspace=0.15)\n",
    "\n",
    "ax0=fig.add_subplot(gs[0,0])\n",
    "ax1=fig.add_subplot(gs[0,1])\n",
    "\n",
    "ax0=sns.scatterplot(ax=ax0,data=df,x='HP',y='Price', color='#24a7ad')\n",
    "ax1=sns.countplot(ax=ax1,data=df,x='HP', color='#24a7ad')"
   ]
  },
  {
   "cell_type": "markdown",
   "id": "d0082c01",
   "metadata": {
    "papermill": {
     "duration": 0.023475,
     "end_time": "2022-06-18T18:17:26.674026",
     "exception": false,
     "start_time": "2022-06-18T18:17:26.650551",
     "status": "completed"
    },
    "tags": []
   },
   "source": [
    "#### 5. MetColor"
   ]
  },
  {
   "cell_type": "markdown",
   "id": "18c24505",
   "metadata": {
    "papermill": {
     "duration": 0.023539,
     "end_time": "2022-06-18T18:17:26.722147",
     "exception": false,
     "start_time": "2022-06-18T18:17:26.698608",
     "status": "completed"
    },
    "tags": []
   },
   "source": [
    "Now we visualise `MetColor` to choose our method of feature imputation."
   ]
  },
  {
   "cell_type": "code",
   "execution_count": 17,
   "id": "806094c6",
   "metadata": {
    "execution": {
     "iopub.execute_input": "2022-06-18T18:17:26.771977Z",
     "iopub.status.busy": "2022-06-18T18:17:26.771550Z",
     "iopub.status.idle": "2022-06-18T18:17:27.020090Z",
     "shell.execute_reply": "2022-06-18T18:17:27.019195Z"
    },
    "papermill": {
     "duration": 0.275827,
     "end_time": "2022-06-18T18:17:27.022203",
     "exception": false,
     "start_time": "2022-06-18T18:17:26.746376",
     "status": "completed"
    },
    "tags": []
   },
   "outputs": [
    {
     "data": {
      "image/png": "[encoded data removed]",
      "text/plain": [
       "<Figure size 864x432 with 2 Axes>"
      ]
     },
     "metadata": {
      "needs_background": "light"
     },
     "output_type": "display_data"
    }
   ],
   "source": [
    "fig=plt.figure(figsize=(12,6))\n",
    "gs = fig.add_gridspec(1,2)\n",
    "gs.update(wspace=0.3,hspace=0.15)\n",
    "\n",
    "ax0=fig.add_subplot(gs[0,0])\n",
    "ax1=fig.add_subplot(gs[0,1])\n",
    "\n",
    "ax0.grid(color='#001B48', linestyle=':', axis='y', zorder=0,  dashes=(1,3))\n",
    "ax1.grid(color='#001B48', linestyle=':', axis='y', zorder=0, dashes=(1,3))\n",
    "\n",
    "ax0=sns.countplot(ax=ax0,data=df,x='MetColor',color='#24a7ad')\n",
    "ax1=sns.stripplot(ax=ax1,data=df,x='MetColor',y='Price',color='#24a7ad')"
   ]
  },
  {
   "cell_type": "markdown",
   "id": "ff549c8a",
   "metadata": {
    "papermill": {
     "duration": 0.02495,
     "end_time": "2022-06-18T18:17:27.071888",
     "exception": false,
     "start_time": "2022-06-18T18:17:27.046938",
     "status": "completed"
    },
    "tags": []
   },
   "source": [
    "##### Observation:\n",
    "* The mode of the distribution is 1 i.e Metallic Colour.\n",
    "* Further it can be seen from the Strip-Plot that both categories have little difference between prices.\n",
    "* Thus it's feasible to replace the null values with 1 owing to a very low difference in prices. "
   ]
  },
  {
   "cell_type": "code",
   "execution_count": 18,
   "id": "e5629b28",
   "metadata": {
    "execution": {
     "iopub.execute_input": "2022-06-18T18:17:27.122990Z",
     "iopub.status.busy": "2022-06-18T18:17:27.122562Z",
     "iopub.status.idle": "2022-06-18T18:17:27.135122Z",
     "shell.execute_reply": "2022-06-18T18:17:27.134401Z"
    },
    "papermill": {
     "duration": 0.040446,
     "end_time": "2022-06-18T18:17:27.137086",
     "exception": false,
     "start_time": "2022-06-18T18:17:27.096640",
     "status": "completed"
    },
    "tags": []
   },
   "outputs": [
    {
     "data": {
      "text/plain": [
       "Price        0\n",
       "Age          0\n",
       "KM           0\n",
       "FuelType     0\n",
       "HP           0\n",
       "MetColor     0\n",
       "Automatic    0\n",
       "CC           0\n",
       "Doors        0\n",
       "Weight       0\n",
       "dtype: int64"
      ]
     },
     "execution_count": 18,
     "metadata": {},
     "output_type": "execute_result"
    }
   ],
   "source": [
    "df['MetColor'].fillna(df['MetColor'].mode()[0],inplace=True)\n",
    "df.isnull().sum()"
   ]
  },
  {
   "cell_type": "markdown",
   "id": "a17c3ea2",
   "metadata": {
    "papermill": {
     "duration": 0.024591,
     "end_time": "2022-06-18T18:17:27.186881",
     "exception": false,
     "start_time": "2022-06-18T18:17:27.162290",
     "status": "completed"
    },
    "tags": []
   },
   "source": [
    "#### 6. Doors\n",
    "\n",
    "Although the feature `Doors` has no null value, it still contains multiple elements which have the number of doors in words. Therefore these words must be converted to numbers."
   ]
  },
  {
   "cell_type": "code",
   "execution_count": 19,
   "id": "dd75167b",
   "metadata": {
    "execution": {
     "iopub.execute_input": "2022-06-18T18:17:27.239349Z",
     "iopub.status.busy": "2022-06-18T18:17:27.238924Z",
     "iopub.status.idle": "2022-06-18T18:17:27.248751Z",
     "shell.execute_reply": "2022-06-18T18:17:27.248020Z"
    },
    "papermill": {
     "duration": 0.039569,
     "end_time": "2022-06-18T18:17:27.252299",
     "exception": false,
     "start_time": "2022-06-18T18:17:27.212730",
     "status": "completed"
    },
    "tags": []
   },
   "outputs": [
    {
     "name": "stdout",
     "output_type": "stream",
     "text": [
      "['3' '5' '4' '2']\n"
     ]
    }
   ],
   "source": [
    "df['Doors']=df['Doors'].replace('three','3')\n",
    "df['Doors']=df['Doors'].replace('four','4')\n",
    "df['Doors']=df['Doors'].replace('five','5')\n",
    "print(df['Doors'].unique())"
   ]
  },
  {
   "cell_type": "code",
   "execution_count": 20,
   "id": "87807f95",
   "metadata": {
    "execution": {
     "iopub.execute_input": "2022-06-18T18:17:27.305379Z",
     "iopub.status.busy": "2022-06-18T18:17:27.304703Z",
     "iopub.status.idle": "2022-06-18T18:17:27.627540Z",
     "shell.execute_reply": "2022-06-18T18:17:27.626426Z"
    },
    "papermill": {
     "duration": 0.351446,
     "end_time": "2022-06-18T18:17:27.629882",
     "exception": false,
     "start_time": "2022-06-18T18:17:27.278436",
     "status": "completed"
    },
    "tags": []
   },
   "outputs": [
    {
     "data": {
      "image/png": "[encoded data removed]",
      "text/plain": [
       "<Figure size 864x432 with 2 Axes>"
      ]
     },
     "metadata": {
      "needs_background": "light"
     },
     "output_type": "display_data"
    }
   ],
   "source": [
    "fig=plt.figure(figsize=(12,6))\n",
    "gs = fig.add_gridspec(1,2)\n",
    "gs.update(wspace=0.2)\n",
    "\n",
    "ax0=fig.add_subplot(gs[0,0])\n",
    "ax1=fig.add_subplot(gs[0,1])\n",
    "\n",
    "ax0.grid(color='#001B48', linestyle=':', axis='y', zorder=0, dashes=(1,3))\n",
    "ax1.grid(color='#001B48', linestyle=':', axis='y', zorder=0, dashes=(1,3))\n",
    "\n",
    "ax0=sns.histplot(ax=ax0,data=df['Doors'], bins=6, color='#24a7ad')\n",
    "ax1=sns.stripplot(ax=ax1,data=df,x='Doors',y='Price', color='#24a7ad')"
   ]
  },
  {
   "cell_type": "markdown",
   "id": "8e1cf0ee",
   "metadata": {
    "papermill": {
     "duration": 0.024661,
     "end_time": "2022-06-18T18:17:27.679952",
     "exception": false,
     "start_time": "2022-06-18T18:17:27.655291",
     "status": "completed"
    },
    "tags": []
   },
   "source": [
    "#### 7. CC and Weight\n",
    "\n",
    "Both these features don't contain any null values so we visualise them to see their distribution according to `Price`."
   ]
  },
  {
   "cell_type": "code",
   "execution_count": 21,
   "id": "6a86f164",
   "metadata": {
    "execution": {
     "iopub.execute_input": "2022-06-18T18:17:27.732322Z",
     "iopub.status.busy": "2022-06-18T18:17:27.731208Z",
     "iopub.status.idle": "2022-06-18T18:17:29.397783Z",
     "shell.execute_reply": "2022-06-18T18:17:29.396726Z"
    },
    "papermill": {
     "duration": 1.694902,
     "end_time": "2022-06-18T18:17:29.399965",
     "exception": false,
     "start_time": "2022-06-18T18:17:27.705063",
     "status": "completed"
    },
    "tags": []
   },
   "outputs": [
    {
     "data": {
      "image/png": "[encoded data removed]",
      "text/plain": [
       "<Figure size 864x432 with 2 Axes>"
      ]
     },
     "metadata": {
      "needs_background": "light"
     },
     "output_type": "display_data"
    }
   ],
   "source": [
    "fig=plt.figure(figsize=(12,6))\n",
    "gs = fig.add_gridspec(1,2)\n",
    "gs.update(wspace=0.2)\n",
    "\n",
    "ax0=fig.add_subplot(gs[0,0])\n",
    "ax1=fig.add_subplot(gs[0,1])\n",
    "\n",
    "ax0.grid(color='#001B48', linestyle=':', axis='x', zorder=0, dashes=(1,3))\n",
    "ax1.grid(color='#001B48', linestyle=':', axis='x', zorder=0, dashes=(1,3))\n",
    "\n",
    "ax0=sns.histplot(ax=ax0,data=df,x='CC',y='Price', color='#24a7ad')\n",
    "ax1=sns.kdeplot(ax=ax1,data=df,x='Weight',y='Price',fill=True, color='#24a7ad')"
   ]
  },
  {
   "cell_type": "markdown",
   "id": "be01a9e3",
   "metadata": {
    "papermill": {
     "duration": 0.025586,
     "end_time": "2022-06-18T18:17:29.451086",
     "exception": false,
     "start_time": "2022-06-18T18:17:29.425500",
     "status": "completed"
    },
    "tags": []
   },
   "source": [
    "##### Observation:\n",
    "* The feature `CC` can be divided into 8 classes as there are a large number of elements which have the same `CC`."
   ]
  },
  {
   "cell_type": "code",
   "execution_count": 22,
   "id": "7697a7c2",
   "metadata": {
    "execution": {
     "iopub.execute_input": "2022-06-18T18:17:29.504420Z",
     "iopub.status.busy": "2022-06-18T18:17:29.503126Z",
     "iopub.status.idle": "2022-06-18T18:17:29.514968Z",
     "shell.execute_reply": "2022-06-18T18:17:29.513604Z"
    },
    "papermill": {
     "duration": 0.040776,
     "end_time": "2022-06-18T18:17:29.517341",
     "exception": false,
     "start_time": "2022-06-18T18:17:29.476565",
     "status": "completed"
    },
    "tags": []
   },
   "outputs": [
    {
     "name": "stdout",
     "output_type": "stream",
     "text": [
      "CC Class intervals:\n",
      "(1912.5, 2000.0]\n",
      "(1737.5, 1825.0]\n",
      "(1825.0, 1912.5]\n",
      "(1562.5, 1650.0]\n",
      "(1387.5, 1475.0]\n",
      "(1299.3, 1387.5]\n"
     ]
    }
   ],
   "source": [
    "df['CCClass']=pd.cut(df['CC'],bins=8)\n",
    "uniques=df['CCClass'].unique()\n",
    "print(\"CC Class intervals:\")\n",
    "for i in uniques:\n",
    "    print(i)"
   ]
  },
  {
   "cell_type": "markdown",
   "id": "b2462960",
   "metadata": {
    "papermill": {
     "duration": 0.026288,
     "end_time": "2022-06-18T18:17:29.570754",
     "exception": false,
     "start_time": "2022-06-18T18:17:29.544466",
     "status": "completed"
    },
    "tags": []
   },
   "source": [
    "* Now we create 8 different bands of CC using these boundary values.\n",
    "* The bands 3 and 5 contain no elements and thus will be skipped."
   ]
  },
  {
   "cell_type": "code",
   "execution_count": 23,
   "id": "d46376be",
   "metadata": {
    "execution": {
     "iopub.execute_input": "2022-06-18T18:17:29.626168Z",
     "iopub.status.busy": "2022-06-18T18:17:29.625602Z",
     "iopub.status.idle": "2022-06-18T18:17:29.959547Z",
     "shell.execute_reply": "2022-06-18T18:17:29.958410Z"
    },
    "papermill": {
     "duration": 0.364354,
     "end_time": "2022-06-18T18:17:29.961778",
     "exception": false,
     "start_time": "2022-06-18T18:17:29.597424",
     "status": "completed"
    },
    "tags": []
   },
   "outputs": [
    {
     "data": {
      "image/png": "[encoded data removed]",
      "text/plain": [
       "<Figure size 720x360 with 2 Axes>"
      ]
     },
     "metadata": {
      "needs_background": "light"
     },
     "output_type": "display_data"
    }
   ],
   "source": [
    "df.loc[(df['CC']>1299.3) & (df['CC']<=1387.5),'CC']=1\n",
    "df.loc[(df['CC']> 1387.5) & (df['CC'] <=1475.0),'CC']=2\n",
    "df.loc[(df['CC']> 1562.5) & (df['CC']<=1650.0),'CC']=4\n",
    "df.loc[(df['CC']> 1737.5) & (df['CC']<=1825.0),'CC']=6\n",
    "df.loc[(df['CC']> 1825.0) & (df['CC']<=1912.5),'CC']=7\n",
    "df.loc[(df['CC']> 1912.5) & (df['CC']<=2000.0),'CC']=8\n",
    "\n",
    "df=df.drop('CCClass',axis=1)\n",
    "\n",
    "fig=plt.figure(figsize=(10,5))\n",
    "gs = fig.add_gridspec(1,2)\n",
    "gs.update(wspace=0.2,hspace=0.15)\n",
    "\n",
    "ax0=fig.add_subplot(gs[0,0])\n",
    "ax1=fig.add_subplot(gs[0,1])\n",
    "\n",
    "ax0=sns.stripplot(ax=ax0,data=df,x='CC',y='Price', color='#24a7ad')\n",
    "ax1=sns.countplot(ax=ax1,data=df,x='CC', color='#24a7ad')"
   ]
  },
  {
   "cell_type": "markdown",
   "id": "d10aa597",
   "metadata": {
    "papermill": {
     "duration": 0.026684,
     "end_time": "2022-06-18T18:17:30.014543",
     "exception": false,
     "start_time": "2022-06-18T18:17:29.987859",
     "status": "completed"
    },
    "tags": []
   },
   "source": [
    "***\n",
    "\n",
    "<a id='eda'></a>\n",
    "## <div style='text-align: center;'> 3. EDA and Scaling </div>"
   ]
  },
  {
   "cell_type": "markdown",
   "id": "5f19089e",
   "metadata": {
    "papermill": {
     "duration": 0.027516,
     "end_time": "2022-06-18T18:17:30.102977",
     "exception": false,
     "start_time": "2022-06-18T18:17:30.075461",
     "status": "completed"
    },
    "tags": []
   },
   "source": [
    "### Multivariate Analysis\n",
    "\n",
    "#### Correlation Matrix:\n",
    "\n",
    "This helps us understand the general distribution of every feature with respect to others."
   ]
  },
  {
   "cell_type": "code",
   "execution_count": 24,
   "id": "f4bc216a",
   "metadata": {
    "execution": {
     "iopub.execute_input": "2022-06-18T18:17:30.158799Z",
     "iopub.status.busy": "2022-06-18T18:17:30.158022Z",
     "iopub.status.idle": "2022-06-18T18:17:30.175177Z",
     "shell.execute_reply": "2022-06-18T18:17:30.174436Z"
    },
    "papermill": {
     "duration": 0.047258,
     "end_time": "2022-06-18T18:17:30.177102",
     "exception": false,
     "start_time": "2022-06-18T18:17:30.129844",
     "status": "completed"
    },
    "tags": []
   },
   "outputs": [
    {
     "data": {
      "text/html": [
       "<div>\n",
       "<style scoped>\n",
       "    .dataframe tbody tr th:only-of-type {\n",
       "        vertical-align: middle;\n",
       "    }\n",
       "\n",
       "    .dataframe tbody tr th {\n",
       "        vertical-align: top;\n",
       "    }\n",
       "\n",
       "    .dataframe thead th {\n",
       "        text-align: right;\n",
       "    }\n",
       "</style>\n",
       "<table border=\"1\" class=\"dataframe\">\n",
       "  <thead>\n",
       "    <tr style=\"text-align: right;\">\n",
       "      <th></th>\n",
       "      <th>Price</th>\n",
       "      <th>Age</th>\n",
       "      <th>KM</th>\n",
       "      <th>HP</th>\n",
       "      <th>MetColor</th>\n",
       "      <th>Automatic</th>\n",
       "      <th>CC</th>\n",
       "      <th>Weight</th>\n",
       "    </tr>\n",
       "  </thead>\n",
       "  <tbody>\n",
       "    <tr>\n",
       "      <th>Price</th>\n",
       "      <td>1.000000</td>\n",
       "      <td>-0.833044</td>\n",
       "      <td>-0.565016</td>\n",
       "      <td>0.448651</td>\n",
       "      <td>0.100920</td>\n",
       "      <td>0.033081</td>\n",
       "      <td>0.165182</td>\n",
       "      <td>0.581198</td>\n",
       "    </tr>\n",
       "    <tr>\n",
       "      <th>Age</th>\n",
       "      <td>-0.833044</td>\n",
       "      <td>1.000000</td>\n",
       "      <td>0.484474</td>\n",
       "      <td>-0.332022</td>\n",
       "      <td>-0.085652</td>\n",
       "      <td>0.026082</td>\n",
       "      <td>-0.116688</td>\n",
       "      <td>-0.446206</td>\n",
       "    </tr>\n",
       "    <tr>\n",
       "      <th>KM</th>\n",
       "      <td>-0.565016</td>\n",
       "      <td>0.484474</td>\n",
       "      <td>1.000000</td>\n",
       "      <td>-0.313134</td>\n",
       "      <td>-0.088175</td>\n",
       "      <td>-0.080743</td>\n",
       "      <td>0.296028</td>\n",
       "      <td>-0.025758</td>\n",
       "    </tr>\n",
       "    <tr>\n",
       "      <th>HP</th>\n",
       "      <td>0.448651</td>\n",
       "      <td>-0.332022</td>\n",
       "      <td>-0.313134</td>\n",
       "      <td>1.000000</td>\n",
       "      <td>0.058644</td>\n",
       "      <td>-0.031655</td>\n",
       "      <td>0.243463</td>\n",
       "      <td>0.304825</td>\n",
       "    </tr>\n",
       "    <tr>\n",
       "      <th>MetColor</th>\n",
       "      <td>0.100920</td>\n",
       "      <td>-0.085652</td>\n",
       "      <td>-0.088175</td>\n",
       "      <td>0.058644</td>\n",
       "      <td>1.000000</td>\n",
       "      <td>-0.011450</td>\n",
       "      <td>0.032294</td>\n",
       "      <td>0.046614</td>\n",
       "    </tr>\n",
       "    <tr>\n",
       "      <th>Automatic</th>\n",
       "      <td>0.033081</td>\n",
       "      <td>0.026082</td>\n",
       "      <td>-0.080743</td>\n",
       "      <td>-0.031655</td>\n",
       "      <td>-0.011450</td>\n",
       "      <td>1.000000</td>\n",
       "      <td>-0.068887</td>\n",
       "      <td>0.057249</td>\n",
       "    </tr>\n",
       "    <tr>\n",
       "      <th>CC</th>\n",
       "      <td>0.165182</td>\n",
       "      <td>-0.116688</td>\n",
       "      <td>0.296028</td>\n",
       "      <td>0.243463</td>\n",
       "      <td>0.032294</td>\n",
       "      <td>-0.068887</td>\n",
       "      <td>1.000000</td>\n",
       "      <td>0.651570</td>\n",
       "    </tr>\n",
       "    <tr>\n",
       "      <th>Weight</th>\n",
       "      <td>0.581198</td>\n",
       "      <td>-0.446206</td>\n",
       "      <td>-0.025758</td>\n",
       "      <td>0.304825</td>\n",
       "      <td>0.046614</td>\n",
       "      <td>0.057249</td>\n",
       "      <td>0.651570</td>\n",
       "      <td>1.000000</td>\n",
       "    </tr>\n",
       "  </tbody>\n",
       "</table>\n",
       "</div>"
      ],
      "text/plain": [
       "              Price       Age        KM        HP  MetColor  Automatic  \\\n",
       "Price      1.000000 -0.833044 -0.565016  0.448651  0.100920   0.033081   \n",
       "Age       -0.833044  1.000000  0.484474 -0.332022 -0.085652   0.026082   \n",
       "KM        -0.565016  0.484474  1.000000 -0.313134 -0.088175  -0.080743   \n",
       "HP         0.448651 -0.332022 -0.313134  1.000000  0.058644  -0.031655   \n",
       "MetColor   0.100920 -0.085652 -0.088175  0.058644  1.000000  -0.011450   \n",
       "Automatic  0.033081  0.026082 -0.080743 -0.031655 -0.011450   1.000000   \n",
       "CC         0.165182 -0.116688  0.296028  0.243463  0.032294  -0.068887   \n",
       "Weight     0.581198 -0.446206 -0.025758  0.304825  0.046614   0.057249   \n",
       "\n",
       "                 CC    Weight  \n",
       "Price      0.165182  0.581198  \n",
       "Age       -0.116688 -0.446206  \n",
       "KM         0.296028 -0.025758  \n",
       "HP         0.243463  0.304825  \n",
       "MetColor   0.032294  0.046614  \n",
       "Automatic -0.068887  0.057249  \n",
       "CC         1.000000  0.651570  \n",
       "Weight     0.651570  1.000000  "
      ]
     },
     "execution_count": 24,
     "metadata": {},
     "output_type": "execute_result"
    }
   ],
   "source": [
    "df_corr = df.corr().transpose()\n",
    "df_corr"
   ]
  },
  {
   "cell_type": "code",
   "execution_count": 25,
   "id": "d2e6a231",
   "metadata": {
    "execution": {
     "iopub.execute_input": "2022-06-18T18:17:30.233926Z",
     "iopub.status.busy": "2022-06-18T18:17:30.233493Z",
     "iopub.status.idle": "2022-06-18T18:17:30.917651Z",
     "shell.execute_reply": "2022-06-18T18:17:30.916397Z"
    },
    "papermill": {
     "duration": 0.716283,
     "end_time": "2022-06-18T18:17:30.920512",
     "exception": false,
     "start_time": "2022-06-18T18:17:30.204229",
     "status": "completed"
    },
    "tags": []
   },
   "outputs": [
    {
     "data": {
      "image/png": "[encoded data removed]",
      "text/plain": [
       "<Figure size 864x864 with 2 Axes>"
      ]
     },
     "metadata": {
      "needs_background": "light"
     },
     "output_type": "display_data"
    }
   ],
   "source": [
    "fig = plt.figure(figsize=(12,12))\n",
    "gs = fig.add_gridspec(1,1)\n",
    "\n",
    "ax0 = fig.add_subplot(gs[0,0])\n",
    "ax0=sns.heatmap(df_corr,fmt='0.6f',annot=True,ax=ax0)"
   ]
  },
  {
   "cell_type": "markdown",
   "id": "4faf30fd",
   "metadata": {
    "papermill": {
     "duration": 0.035056,
     "end_time": "2022-06-18T18:17:30.983886",
     "exception": false,
     "start_time": "2022-06-18T18:17:30.948830",
     "status": "completed"
    },
    "tags": []
   },
   "source": [
    "##### Observations:\n",
    "* `Price`- Cars which are heavy and have high horsepower cost more while an old and used cars tend to cost less.\n",
    "* `KM` - Cars which are older tend to have been driven a larger distance.\n",
    "* `CC`- Cars which have a large engine will have more weight as well as horsepower.\n"
   ]
  },
  {
   "cell_type": "markdown",
   "id": "e71b95f0",
   "metadata": {
    "papermill": {
     "duration": 0.03137,
     "end_time": "2022-06-18T18:17:31.051535",
     "exception": false,
     "start_time": "2022-06-18T18:17:31.020165",
     "status": "completed"
    },
    "tags": []
   },
   "source": [
    "#### 1. Analysis of `Age` vs. `CC`vs. `HP`"
   ]
  },
  {
   "cell_type": "code",
   "execution_count": 26,
   "id": "b44449f9",
   "metadata": {
    "execution": {
     "iopub.execute_input": "2022-06-18T18:17:31.117010Z",
     "iopub.status.busy": "2022-06-18T18:17:31.116581Z",
     "iopub.status.idle": "2022-06-18T18:17:32.516397Z",
     "shell.execute_reply": "2022-06-18T18:17:32.514138Z"
    },
    "papermill": {
     "duration": 1.433121,
     "end_time": "2022-06-18T18:17:32.518462",
     "exception": false,
     "start_time": "2022-06-18T18:17:31.085341",
     "status": "completed"
    },
    "tags": []
   },
   "outputs": [
    {
     "data": {
      "image/png": "[encoded data removed]",
      "text/plain": [
       "<Figure size 1296x864 with 6 Axes>"
      ]
     },
     "metadata": {
      "needs_background": "light"
     },
     "output_type": "display_data"
    }
   ],
   "source": [
    "fig = plt.figure(figsize=(18,12))\n",
    "gs = fig.add_gridspec(2,3)\n",
    "gs.update(wspace=0.3)\n",
    "ax0 = fig.add_subplot(gs[0,0])\n",
    "ax1 = fig.add_subplot(gs[0,1])\n",
    "ax2 = fig.add_subplot(gs[0,2])\n",
    "ax3 = fig.add_subplot(gs[1,0])\n",
    "ax4 = fig.add_subplot(gs[1,1])\n",
    "ax5 = fig.add_subplot(gs[1,2])\n",
    "\n",
    "ax0=sns.countplot(data=df,ax=ax0,x='Age',hue='CC',palette='icefire')\n",
    "ax1=sns.countplot(data=df,ax=ax1,x='Age',hue='HP',palette='icefire')\n",
    "ax2=sns.histplot(data=df,ax=ax2,x='Age',y='Weight', color='#24a7ad')\n",
    "ax3=sns.countplot(data=df,ax=ax3,x='HP',hue='CC',palette='icefire')\n",
    "ax4=sns.histplot(data=df,ax=ax4,x='HP',y='Weight', color='#24a7ad')\n",
    "ax5=sns.histplot(data=df,ax=ax5,x='CC',y='Weight', color='#24a7ad')"
   ]
  },
  {
   "cell_type": "markdown",
   "id": "88eaeb56",
   "metadata": {
    "papermill": {
     "duration": 0.028106,
     "end_time": "2022-06-18T18:17:32.575189",
     "exception": false,
     "start_time": "2022-06-18T18:17:32.547083",
     "status": "completed"
    },
    "tags": []
   },
   "source": [
    "##### Observation:\n",
    "* Older cars tend to have a higher `CC` and lower `HP`.\n",
    "* Heavier cars have higher `CC` as well as `HP`"
   ]
  },
  {
   "cell_type": "markdown",
   "id": "57407467",
   "metadata": {
    "papermill": {
     "duration": 0.027639,
     "end_time": "2022-06-18T18:17:32.631547",
     "exception": false,
     "start_time": "2022-06-18T18:17:32.603908",
     "status": "completed"
    },
    "tags": []
   },
   "source": [
    "### Feature Encoding and Scaling\n",
    "\n",
    "#### Encoding FuelType:"
   ]
  },
  {
   "cell_type": "code",
   "execution_count": 27,
   "id": "853175e7",
   "metadata": {
    "execution": {
     "iopub.execute_input": "2022-06-18T18:17:32.690492Z",
     "iopub.status.busy": "2022-06-18T18:17:32.689913Z",
     "iopub.status.idle": "2022-06-18T18:17:32.842007Z",
     "shell.execute_reply": "2022-06-18T18:17:32.840850Z"
    },
    "papermill": {
     "duration": 0.184886,
     "end_time": "2022-06-18T18:17:32.844546",
     "exception": false,
     "start_time": "2022-06-18T18:17:32.659660",
     "status": "completed"
    },
    "tags": []
   },
   "outputs": [
    {
     "data": {
      "text/html": [
       "<div>\n",
       "<style scoped>\n",
       "    .dataframe tbody tr th:only-of-type {\n",
       "        vertical-align: middle;\n",
       "    }\n",
       "\n",
       "    .dataframe tbody tr th {\n",
       "        vertical-align: top;\n",
       "    }\n",
       "\n",
       "    .dataframe thead th {\n",
       "        text-align: right;\n",
       "    }\n",
       "</style>\n",
       "<table border=\"1\" class=\"dataframe\">\n",
       "  <thead>\n",
       "    <tr style=\"text-align: right;\">\n",
       "      <th></th>\n",
       "      <th>Price</th>\n",
       "      <th>Age</th>\n",
       "      <th>KM</th>\n",
       "      <th>FuelType</th>\n",
       "      <th>HP</th>\n",
       "      <th>MetColor</th>\n",
       "      <th>Automatic</th>\n",
       "      <th>CC</th>\n",
       "      <th>Doors</th>\n",
       "      <th>Weight</th>\n",
       "    </tr>\n",
       "  </thead>\n",
       "  <tbody>\n",
       "    <tr>\n",
       "      <th>0</th>\n",
       "      <td>13500</td>\n",
       "      <td>2.0</td>\n",
       "      <td>46986.0</td>\n",
       "      <td>1</td>\n",
       "      <td>2.0</td>\n",
       "      <td>1.0</td>\n",
       "      <td>0</td>\n",
       "      <td>8</td>\n",
       "      <td>3</td>\n",
       "      <td>1165</td>\n",
       "    </tr>\n",
       "    <tr>\n",
       "      <th>1</th>\n",
       "      <td>13750</td>\n",
       "      <td>2.0</td>\n",
       "      <td>72937.0</td>\n",
       "      <td>1</td>\n",
       "      <td>2.0</td>\n",
       "      <td>1.0</td>\n",
       "      <td>0</td>\n",
       "      <td>8</td>\n",
       "      <td>3</td>\n",
       "      <td>1165</td>\n",
       "    </tr>\n",
       "    <tr>\n",
       "      <th>2</th>\n",
       "      <td>13950</td>\n",
       "      <td>2.0</td>\n",
       "      <td>41711.0</td>\n",
       "      <td>1</td>\n",
       "      <td>2.0</td>\n",
       "      <td>1.0</td>\n",
       "      <td>0</td>\n",
       "      <td>8</td>\n",
       "      <td>3</td>\n",
       "      <td>1165</td>\n",
       "    </tr>\n",
       "    <tr>\n",
       "      <th>3</th>\n",
       "      <td>14950</td>\n",
       "      <td>2.0</td>\n",
       "      <td>48000.0</td>\n",
       "      <td>1</td>\n",
       "      <td>2.0</td>\n",
       "      <td>0.0</td>\n",
       "      <td>0</td>\n",
       "      <td>8</td>\n",
       "      <td>3</td>\n",
       "      <td>1165</td>\n",
       "    </tr>\n",
       "    <tr>\n",
       "      <th>4</th>\n",
       "      <td>13750</td>\n",
       "      <td>2.0</td>\n",
       "      <td>38500.0</td>\n",
       "      <td>1</td>\n",
       "      <td>2.0</td>\n",
       "      <td>0.0</td>\n",
       "      <td>0</td>\n",
       "      <td>8</td>\n",
       "      <td>3</td>\n",
       "      <td>1170</td>\n",
       "    </tr>\n",
       "  </tbody>\n",
       "</table>\n",
       "</div>"
      ],
      "text/plain": [
       "   Price  Age       KM  FuelType   HP  MetColor  Automatic  CC Doors  Weight\n",
       "0  13500  2.0  46986.0         1  2.0       1.0          0   8     3    1165\n",
       "1  13750  2.0  72937.0         1  2.0       1.0          0   8     3    1165\n",
       "2  13950  2.0  41711.0         1  2.0       1.0          0   8     3    1165\n",
       "3  14950  2.0  48000.0         1  2.0       0.0          0   8     3    1165\n",
       "4  13750  2.0  38500.0         1  2.0       0.0          0   8     3    1170"
      ]
     },
     "execution_count": 27,
     "metadata": {},
     "output_type": "execute_result"
    }
   ],
   "source": [
    "from sklearn import preprocessing\n",
    "\n",
    "le = preprocessing.LabelEncoder()\n",
    "le.fit(df['FuelType'].unique())\n",
    "df[\"FuelType\"]=le.transform(df[\"FuelType\"])\n",
    "df.head()"
   ]
  },
  {
   "cell_type": "markdown",
   "id": "d1257a3b",
   "metadata": {
    "papermill": {
     "duration": 0.029207,
     "end_time": "2022-06-18T18:17:32.902717",
     "exception": false,
     "start_time": "2022-06-18T18:17:32.873510",
     "status": "completed"
    },
    "tags": []
   },
   "source": [
    "#### Scaling the Input Features:"
   ]
  },
  {
   "cell_type": "code",
   "execution_count": 28,
   "id": "88f7876c",
   "metadata": {
    "execution": {
     "iopub.execute_input": "2022-06-18T18:17:32.961169Z",
     "iopub.status.busy": "2022-06-18T18:17:32.960787Z",
     "iopub.status.idle": "2022-06-18T18:17:32.986372Z",
     "shell.execute_reply": "2022-06-18T18:17:32.985660Z"
    },
    "papermill": {
     "duration": 0.057019,
     "end_time": "2022-06-18T18:17:32.988401",
     "exception": false,
     "start_time": "2022-06-18T18:17:32.931382",
     "status": "completed"
    },
    "tags": []
   },
   "outputs": [
    {
     "data": {
      "text/html": [
       "<div>\n",
       "<style scoped>\n",
       "    .dataframe tbody tr th:only-of-type {\n",
       "        vertical-align: middle;\n",
       "    }\n",
       "\n",
       "    .dataframe tbody tr th {\n",
       "        vertical-align: top;\n",
       "    }\n",
       "\n",
       "    .dataframe thead th {\n",
       "        text-align: right;\n",
       "    }\n",
       "</style>\n",
       "<table border=\"1\" class=\"dataframe\">\n",
       "  <thead>\n",
       "    <tr style=\"text-align: right;\">\n",
       "      <th></th>\n",
       "      <th>Age</th>\n",
       "      <th>KM</th>\n",
       "      <th>FuelType</th>\n",
       "      <th>HP</th>\n",
       "      <th>MetColor</th>\n",
       "      <th>Automatic</th>\n",
       "      <th>CC</th>\n",
       "      <th>Doors</th>\n",
       "      <th>Weight</th>\n",
       "    </tr>\n",
       "  </thead>\n",
       "  <tbody>\n",
       "    <tr>\n",
       "      <th>0</th>\n",
       "      <td>-1.754248</td>\n",
       "      <td>-0.583476</td>\n",
       "      <td>-2.462384</td>\n",
       "      <td>0.377991</td>\n",
       "      <td>0.640788</td>\n",
       "      <td>-0.242893</td>\n",
       "      <td>2.313381</td>\n",
       "      <td>-1.085139</td>\n",
       "      <td>1.758561</td>\n",
       "    </tr>\n",
       "    <tr>\n",
       "      <th>1</th>\n",
       "      <td>-1.754248</td>\n",
       "      <td>0.115551</td>\n",
       "      <td>-2.462384</td>\n",
       "      <td>0.377991</td>\n",
       "      <td>0.640788</td>\n",
       "      <td>-0.242893</td>\n",
       "      <td>2.313381</td>\n",
       "      <td>-1.085139</td>\n",
       "      <td>1.758561</td>\n",
       "    </tr>\n",
       "    <tr>\n",
       "      <th>2</th>\n",
       "      <td>-1.754248</td>\n",
       "      <td>-0.725566</td>\n",
       "      <td>-2.462384</td>\n",
       "      <td>0.377991</td>\n",
       "      <td>0.640788</td>\n",
       "      <td>-0.242893</td>\n",
       "      <td>2.313381</td>\n",
       "      <td>-1.085139</td>\n",
       "      <td>1.758561</td>\n",
       "    </tr>\n",
       "    <tr>\n",
       "      <th>3</th>\n",
       "      <td>-1.754248</td>\n",
       "      <td>-0.556163</td>\n",
       "      <td>-2.462384</td>\n",
       "      <td>0.377991</td>\n",
       "      <td>-1.560579</td>\n",
       "      <td>-0.242893</td>\n",
       "      <td>2.313381</td>\n",
       "      <td>-1.085139</td>\n",
       "      <td>1.758561</td>\n",
       "    </tr>\n",
       "    <tr>\n",
       "      <th>4</th>\n",
       "      <td>-1.754248</td>\n",
       "      <td>-0.812059</td>\n",
       "      <td>-2.462384</td>\n",
       "      <td>0.377991</td>\n",
       "      <td>-1.560579</td>\n",
       "      <td>-0.242893</td>\n",
       "      <td>2.313381</td>\n",
       "      <td>-1.085139</td>\n",
       "      <td>1.853577</td>\n",
       "    </tr>\n",
       "  </tbody>\n",
       "</table>\n",
       "</div>"
      ],
      "text/plain": [
       "        Age        KM  FuelType        HP  MetColor  Automatic        CC  \\\n",
       "0 -1.754248 -0.583476 -2.462384  0.377991  0.640788  -0.242893  2.313381   \n",
       "1 -1.754248  0.115551 -2.462384  0.377991  0.640788  -0.242893  2.313381   \n",
       "2 -1.754248 -0.725566 -2.462384  0.377991  0.640788  -0.242893  2.313381   \n",
       "3 -1.754248 -0.556163 -2.462384  0.377991 -1.560579  -0.242893  2.313381   \n",
       "4 -1.754248 -0.812059 -2.462384  0.377991 -1.560579  -0.242893  2.313381   \n",
       "\n",
       "      Doors    Weight  \n",
       "0 -1.085139  1.758561  \n",
       "1 -1.085139  1.758561  \n",
       "2 -1.085139  1.758561  \n",
       "3 -1.085139  1.758561  \n",
       "4 -1.085139  1.853577  "
      ]
     },
     "execution_count": 28,
     "metadata": {},
     "output_type": "execute_result"
    }
   ],
   "source": [
    "X=df.drop('Price',axis=1)\n",
    "y=df['Price']\n",
    "\n",
    "scaler=preprocessing.StandardScaler()\n",
    "val=X.values\n",
    "val_scaled=scaler.fit_transform(val)\n",
    "X=pd.DataFrame(val_scaled,columns=X.columns)\n",
    "X.head(5)"
   ]
  },
  {
   "cell_type": "markdown",
   "id": "883b7178",
   "metadata": {
    "papermill": {
     "duration": 0.028056,
     "end_time": "2022-06-18T18:17:33.045351",
     "exception": false,
     "start_time": "2022-06-18T18:17:33.017295",
     "status": "completed"
    },
    "tags": []
   },
   "source": [
    "***\n",
    "<a id='ml'></a>\n",
    "## <div style='text-align: center;'> 4. Machine Learning </div>\n",
    "\n",
    "### Train-Test Split"
   ]
  },
  {
   "cell_type": "code",
   "execution_count": 29,
   "id": "b7868cb8",
   "metadata": {
    "execution": {
     "iopub.execute_input": "2022-06-18T18:17:33.104170Z",
     "iopub.status.busy": "2022-06-18T18:17:33.103772Z",
     "iopub.status.idle": "2022-06-18T18:17:33.176269Z",
     "shell.execute_reply": "2022-06-18T18:17:33.175182Z"
    },
    "papermill": {
     "duration": 0.104679,
     "end_time": "2022-06-18T18:17:33.178515",
     "exception": false,
     "start_time": "2022-06-18T18:17:33.073836",
     "status": "completed"
    },
    "tags": []
   },
   "outputs": [
    {
     "data": {
      "text/html": [
       "<div>\n",
       "<style scoped>\n",
       "    .dataframe tbody tr th:only-of-type {\n",
       "        vertical-align: middle;\n",
       "    }\n",
       "\n",
       "    .dataframe tbody tr th {\n",
       "        vertical-align: top;\n",
       "    }\n",
       "\n",
       "    .dataframe thead th {\n",
       "        text-align: right;\n",
       "    }\n",
       "</style>\n",
       "<table border=\"1\" class=\"dataframe\">\n",
       "  <thead>\n",
       "    <tr style=\"text-align: right;\">\n",
       "      <th></th>\n",
       "      <th>Age</th>\n",
       "      <th>KM</th>\n",
       "      <th>FuelType</th>\n",
       "      <th>HP</th>\n",
       "      <th>MetColor</th>\n",
       "      <th>Automatic</th>\n",
       "      <th>CC</th>\n",
       "      <th>Doors</th>\n",
       "      <th>Weight</th>\n",
       "    </tr>\n",
       "  </thead>\n",
       "  <tbody>\n",
       "    <tr>\n",
       "      <th>1084</th>\n",
       "      <td>0.970085</td>\n",
       "      <td>1.774888</td>\n",
       "      <td>0.339505</td>\n",
       "      <td>0.377991</td>\n",
       "      <td>0.640788</td>\n",
       "      <td>-0.242893</td>\n",
       "      <td>0.177037</td>\n",
       "      <td>1.014941</td>\n",
       "      <td>-0.046740</td>\n",
       "    </tr>\n",
       "    <tr>\n",
       "      <th>46</th>\n",
       "      <td>-1.754248</td>\n",
       "      <td>0.288967</td>\n",
       "      <td>-2.462384</td>\n",
       "      <td>0.377991</td>\n",
       "      <td>0.640788</td>\n",
       "      <td>-0.242893</td>\n",
       "      <td>2.313381</td>\n",
       "      <td>1.014941</td>\n",
       "      <td>3.468847</td>\n",
       "    </tr>\n",
       "    <tr>\n",
       "      <th>1418</th>\n",
       "      <td>0.970085</td>\n",
       "      <td>-0.794065</td>\n",
       "      <td>0.339505</td>\n",
       "      <td>-1.390071</td>\n",
       "      <td>0.640788</td>\n",
       "      <td>-0.242893</td>\n",
       "      <td>-1.425221</td>\n",
       "      <td>-1.085139</td>\n",
       "      <td>-1.091915</td>\n",
       "    </tr>\n",
       "    <tr>\n",
       "      <th>251</th>\n",
       "      <td>-0.846137</td>\n",
       "      <td>-0.378382</td>\n",
       "      <td>0.339505</td>\n",
       "      <td>0.377991</td>\n",
       "      <td>-1.560579</td>\n",
       "      <td>-0.242893</td>\n",
       "      <td>0.177037</td>\n",
       "      <td>-0.035099</td>\n",
       "      <td>-0.806867</td>\n",
       "    </tr>\n",
       "    <tr>\n",
       "      <th>41</th>\n",
       "      <td>-1.754248</td>\n",
       "      <td>-0.662077</td>\n",
       "      <td>0.339505</td>\n",
       "      <td>0.377991</td>\n",
       "      <td>0.640788</td>\n",
       "      <td>-0.242893</td>\n",
       "      <td>-0.891135</td>\n",
       "      <td>-1.085139</td>\n",
       "      <td>0.523355</td>\n",
       "    </tr>\n",
       "  </tbody>\n",
       "</table>\n",
       "</div>"
      ],
      "text/plain": [
       "           Age        KM  FuelType        HP  MetColor  Automatic        CC  \\\n",
       "1084  0.970085  1.774888  0.339505  0.377991  0.640788  -0.242893  0.177037   \n",
       "46   -1.754248  0.288967 -2.462384  0.377991  0.640788  -0.242893  2.313381   \n",
       "1418  0.970085 -0.794065  0.339505 -1.390071  0.640788  -0.242893 -1.425221   \n",
       "251  -0.846137 -0.378382  0.339505  0.377991 -1.560579  -0.242893  0.177037   \n",
       "41   -1.754248 -0.662077  0.339505  0.377991  0.640788  -0.242893 -0.891135   \n",
       "\n",
       "         Doors    Weight  \n",
       "1084  1.014941 -0.046740  \n",
       "46    1.014941  3.468847  \n",
       "1418 -1.085139 -1.091915  \n",
       "251  -0.035099 -0.806867  \n",
       "41   -1.085139  0.523355  "
      ]
     },
     "execution_count": 29,
     "metadata": {},
     "output_type": "execute_result"
    }
   ],
   "source": [
    "from sklearn.model_selection import train_test_split\n",
    "\n",
    "X_train, X_test, y_train, y_test = train_test_split(X, y, test_size = 0.20, random_state = 64)\n",
    "X_train.sample(5)"
   ]
  },
  {
   "cell_type": "markdown",
   "id": "2b667fd3",
   "metadata": {
    "papermill": {
     "duration": 0.028631,
     "end_time": "2022-06-18T18:17:33.235851",
     "exception": false,
     "start_time": "2022-06-18T18:17:33.207220",
     "status": "completed"
    },
    "tags": []
   },
   "source": [
    "### Importing modules for building models and calculating their accuracy"
   ]
  },
  {
   "cell_type": "code",
   "execution_count": 30,
   "id": "a990d54b",
   "metadata": {
    "execution": {
     "iopub.execute_input": "2022-06-18T18:17:33.296746Z",
     "iopub.status.busy": "2022-06-18T18:17:33.296211Z",
     "iopub.status.idle": "2022-06-18T18:17:33.512236Z",
     "shell.execute_reply": "2022-06-18T18:17:33.511429Z"
    },
    "papermill": {
     "duration": 0.249412,
     "end_time": "2022-06-18T18:17:33.514685",
     "exception": false,
     "start_time": "2022-06-18T18:17:33.265273",
     "status": "completed"
    },
    "tags": []
   },
   "outputs": [],
   "source": [
    "# Creating and Training Models\n",
    "from sklearn.feature_selection import SelectKBest\n",
    "from sklearn.pipeline import make_pipeline\n",
    "from sklearn.linear_model import LinearRegression,Ridge,Lasso\n",
    "from sklearn.tree import DecisionTreeRegressor\n",
    "from sklearn.ensemble import RandomForestRegressor\n",
    "from sklearn.neighbors import KNeighborsRegressor\n",
    "from sklearn.ensemble import GradientBoostingRegressor"
   ]
  },
  {
   "cell_type": "markdown",
   "id": "1bf89429",
   "metadata": {
    "papermill": {
     "duration": 0.028626,
     "end_time": "2022-06-18T18:17:33.573384",
     "exception": false,
     "start_time": "2022-06-18T18:17:33.544758",
     "status": "completed"
    },
    "tags": []
   },
   "source": [
    "### Linear Regression:"
   ]
  },
  {
   "cell_type": "code",
   "execution_count": 31,
   "id": "771c0a04",
   "metadata": {
    "execution": {
     "iopub.execute_input": "2022-06-18T18:17:33.634577Z",
     "iopub.status.busy": "2022-06-18T18:17:33.634051Z",
     "iopub.status.idle": "2022-06-18T18:17:33.660668Z",
     "shell.execute_reply": "2022-06-18T18:17:33.659482Z"
    },
    "papermill": {
     "duration": 0.061614,
     "end_time": "2022-06-18T18:17:33.664510",
     "exception": false,
     "start_time": "2022-06-18T18:17:33.602896",
     "status": "completed"
    },
    "tags": []
   },
   "outputs": [
    {
     "name": "stdout",
     "output_type": "stream",
     "text": [
      "Linear Regression Train Score is :  0.8071172478568515\n",
      "Linear Regression Test Score is :  0.8807732275377751\n"
     ]
    }
   ],
   "source": [
    "lr = LinearRegression()\n",
    "lr.fit(X_train, y_train)\n",
    "\n",
    "print('Linear Regression Train Score is : ' , lr.score(X_train, y_train))\n",
    "print('Linear Regression Test Score is : ' , lr.score(X_test, y_test))"
   ]
  },
  {
   "cell_type": "markdown",
   "id": "01e2b58f",
   "metadata": {
    "papermill": {
     "duration": 0.053794,
     "end_time": "2022-06-18T18:17:33.773623",
     "exception": false,
     "start_time": "2022-06-18T18:17:33.719829",
     "status": "completed"
    },
    "tags": []
   },
   "source": [
    "### Ridge Regression:"
   ]
  },
  {
   "cell_type": "code",
   "execution_count": 32,
   "id": "2248670a",
   "metadata": {
    "execution": {
     "iopub.execute_input": "2022-06-18T18:17:33.835829Z",
     "iopub.status.busy": "2022-06-18T18:17:33.835403Z",
     "iopub.status.idle": "2022-06-18T18:17:33.856100Z",
     "shell.execute_reply": "2022-06-18T18:17:33.854892Z"
    },
    "papermill": {
     "duration": 0.055916,
     "end_time": "2022-06-18T18:17:33.859315",
     "exception": false,
     "start_time": "2022-06-18T18:17:33.803399",
     "status": "completed"
    },
    "tags": []
   },
   "outputs": [
    {
     "name": "stdout",
     "output_type": "stream",
     "text": [
      "Ridge Regression Train Score is :  0.8071172332264772\n",
      "Ridge Regression Test Score is :  0.8807617054963304\n"
     ]
    }
   ],
   "source": [
    "clf=Ridge(alpha=0.2)\n",
    "clf.fit(X_train,y_train)\n",
    "\n",
    "print('Ridge Regression Train Score is : ' , clf.score(X_train, y_train))\n",
    "print('Ridge Regression Test Score is : ' , clf.score(X_test, y_test))"
   ]
  },
  {
   "cell_type": "markdown",
   "id": "d5dcf738",
   "metadata": {
    "papermill": {
     "duration": 0.055975,
     "end_time": "2022-06-18T18:17:33.972789",
     "exception": false,
     "start_time": "2022-06-18T18:17:33.916814",
     "status": "completed"
    },
    "tags": []
   },
   "source": [
    "### Lasso Regression:"
   ]
  },
  {
   "cell_type": "code",
   "execution_count": 33,
   "id": "b4854044",
   "metadata": {
    "execution": {
     "iopub.execute_input": "2022-06-18T18:17:34.034033Z",
     "iopub.status.busy": "2022-06-18T18:17:34.033601Z",
     "iopub.status.idle": "2022-06-18T18:17:34.057537Z",
     "shell.execute_reply": "2022-06-18T18:17:34.055486Z"
    },
    "papermill": {
     "duration": 0.058452,
     "end_time": "2022-06-18T18:17:34.060917",
     "exception": false,
     "start_time": "2022-06-18T18:17:34.002465",
     "status": "completed"
    },
    "tags": []
   },
   "outputs": [
    {
     "name": "stdout",
     "output_type": "stream",
     "text": [
      "Lasso Regression Train Score is :  0.807117247856614\n",
      "Lasso Regression Test Score is :  0.8807731966290154\n"
     ]
    }
   ],
   "source": [
    "ls=Lasso(alpha=0.0005)\n",
    "ls.fit(X_train,y_train)\n",
    "\n",
    "print('Lasso Regression Train Score is : ' , ls.score(X_train, y_train))\n",
    "print('Lasso Regression Test Score is : ' , ls.score(X_test, y_test))"
   ]
  },
  {
   "cell_type": "markdown",
   "id": "764ef318",
   "metadata": {
    "papermill": {
     "duration": 0.046391,
     "end_time": "2022-06-18T18:17:34.178860",
     "exception": false,
     "start_time": "2022-06-18T18:17:34.132469",
     "status": "completed"
    },
    "tags": []
   },
   "source": [
    "### K-Nearest-Neighbours Regression:"
   ]
  },
  {
   "cell_type": "code",
   "execution_count": 34,
   "id": "761cf51a",
   "metadata": {
    "execution": {
     "iopub.execute_input": "2022-06-18T18:17:34.240548Z",
     "iopub.status.busy": "2022-06-18T18:17:34.239394Z",
     "iopub.status.idle": "2022-06-18T18:17:34.269859Z",
     "shell.execute_reply": "2022-06-18T18:17:34.268698Z"
    },
    "papermill": {
     "duration": 0.064928,
     "end_time": "2022-06-18T18:17:34.273480",
     "exception": false,
     "start_time": "2022-06-18T18:17:34.208552",
     "status": "completed"
    },
    "tags": []
   },
   "outputs": [
    {
     "name": "stdout",
     "output_type": "stream",
     "text": [
      "KNN Regression Train Score is :  0.8496778198951315\n",
      "KNN Regression Test Score is :  0.8681705944230496\n"
     ]
    }
   ],
   "source": [
    "knn=KNeighborsRegressor(n_neighbors=8)\n",
    "knn.fit(X_train,y_train)\n",
    "\n",
    "print(\"KNN Regression Train Score is : \" , knn.score(X_train, y_train))\n",
    "print(\"KNN Regression Test Score is : \" , knn.score(X_test, y_test))"
   ]
  },
  {
   "cell_type": "markdown",
   "id": "e21ffaac",
   "metadata": {
    "papermill": {
     "duration": 0.029981,
     "end_time": "2022-06-18T18:17:34.334054",
     "exception": false,
     "start_time": "2022-06-18T18:17:34.304073",
     "status": "completed"
    },
    "tags": []
   },
   "source": [
    "### Decision Tree Regression:"
   ]
  },
  {
   "cell_type": "code",
   "execution_count": 35,
   "id": "bde4970f",
   "metadata": {
    "execution": {
     "iopub.execute_input": "2022-06-18T18:17:34.405651Z",
     "iopub.status.busy": "2022-06-18T18:17:34.404547Z",
     "iopub.status.idle": "2022-06-18T18:17:34.421340Z",
     "shell.execute_reply": "2022-06-18T18:17:34.420254Z"
    },
    "papermill": {
     "duration": 0.059666,
     "end_time": "2022-06-18T18:17:34.423991",
     "exception": false,
     "start_time": "2022-06-18T18:17:34.364325",
     "status": "completed"
    },
    "tags": []
   },
   "outputs": [
    {
     "name": "stdout",
     "output_type": "stream",
     "text": [
      "Decision Tree Regression Train Score is :  0.9145415808042742\n",
      "Decision Tree Regression Test Score is :  0.8737014558824269\n"
     ]
    }
   ],
   "source": [
    "dt=DecisionTreeRegressor(max_depth=8)\n",
    "dt.fit(X_train,y_train)\n",
    "\n",
    "print(\"Decision Tree Regression Train Score is : \" , dt.score(X_train, y_train))\n",
    "print(\"Decision Tree Regression Test Score is : \" , dt.score(X_test, y_test))"
   ]
  },
  {
   "cell_type": "markdown",
   "id": "3952f3b0",
   "metadata": {
    "papermill": {
     "duration": 0.029954,
     "end_time": "2022-06-18T18:17:34.484577",
     "exception": false,
     "start_time": "2022-06-18T18:17:34.454623",
     "status": "completed"
    },
    "tags": []
   },
   "source": [
    "### Random Forest Regression:"
   ]
  },
  {
   "cell_type": "code",
   "execution_count": 36,
   "id": "3a1f550d",
   "metadata": {
    "execution": {
     "iopub.execute_input": "2022-06-18T18:17:34.549748Z",
     "iopub.status.busy": "2022-06-18T18:17:34.549035Z",
     "iopub.status.idle": "2022-06-18T18:17:43.425475Z",
     "shell.execute_reply": "2022-06-18T18:17:43.424096Z"
    },
    "papermill": {
     "duration": 8.912217,
     "end_time": "2022-06-18T18:17:43.428073",
     "exception": false,
     "start_time": "2022-06-18T18:17:34.515856",
     "status": "completed"
    },
    "tags": []
   },
   "outputs": [
    {
     "name": "stdout",
     "output_type": "stream",
     "text": [
      "Random Forest Regression Train Score is :  0.9716979335123466\n",
      "Random Forest Regression Test Score is :  0.9003523527641488\n"
     ]
    }
   ],
   "source": [
    "forest=RandomForestRegressor(criterion='absolute_error',max_depth=100,n_estimators=500,random_state=0,n_jobs=-1)\n",
    "forest.fit(X_train,y_train)\n",
    "\n",
    "print(\"Random Forest Regression Train Score is : \" , forest.score(X_train, y_train))\n",
    "print(\"Random Forest Regression Test Score is : \" , forest.score(X_test, y_test))"
   ]
  },
  {
   "cell_type": "markdown",
   "id": "6b85cfad",
   "metadata": {
    "papermill": {
     "duration": 0.029649,
     "end_time": "2022-06-18T18:17:43.488375",
     "exception": false,
     "start_time": "2022-06-18T18:17:43.458726",
     "status": "completed"
    },
    "tags": []
   },
   "source": [
    "### Gradient Boosting Regression:"
   ]
  },
  {
   "cell_type": "code",
   "execution_count": 37,
   "id": "cb5a1cd8",
   "metadata": {
    "execution": {
     "iopub.execute_input": "2022-06-18T18:17:43.550579Z",
     "iopub.status.busy": "2022-06-18T18:17:43.550104Z",
     "iopub.status.idle": "2022-06-18T18:17:43.788255Z",
     "shell.execute_reply": "2022-06-18T18:17:43.787001Z"
    },
    "papermill": {
     "duration": 0.273574,
     "end_time": "2022-06-18T18:17:43.792027",
     "exception": false,
     "start_time": "2022-06-18T18:17:43.518453",
     "status": "completed"
    },
    "tags": []
   },
   "outputs": [
    {
     "name": "stdout",
     "output_type": "stream",
     "text": [
      "Gradient Boosting Regression Train Score is :  0.9898294085060244\n",
      "Gradient Boosting Regression Test Score is :  0.8863559534230536\n"
     ]
    }
   ],
   "source": [
    "gbr=GradientBoostingRegressor(random_state=0,max_depth=8)\n",
    "gbr.fit(X_train,y_train)\n",
    "\n",
    "print(\"Gradient Boosting Regression Train Score is : \" , gbr.score(X_train, y_train))\n",
    "print(\"Gradient Boosting Regression Test Score is : \" , gbr.score(X_test, y_test))"
   ]
  },
  {
   "cell_type": "markdown",
   "id": "9d1eb1c7",
   "metadata": {
    "papermill": {
     "duration": 0.030652,
     "end_time": "2022-06-18T18:17:43.853699",
     "exception": false,
     "start_time": "2022-06-18T18:17:43.823047",
     "status": "completed"
    },
    "tags": []
   },
   "source": [
    "### Comparing Models"
   ]
  },
  {
   "cell_type": "code",
   "execution_count": 38,
   "id": "2dd8d6da",
   "metadata": {
    "execution": {
     "iopub.execute_input": "2022-06-18T18:17:43.917024Z",
     "iopub.status.busy": "2022-06-18T18:17:43.916267Z",
     "iopub.status.idle": "2022-06-18T18:17:44.407518Z",
     "shell.execute_reply": "2022-06-18T18:17:44.406251Z"
    },
    "papermill": {
     "duration": 0.525084,
     "end_time": "2022-06-18T18:17:44.410188",
     "exception": false,
     "start_time": "2022-06-18T18:17:43.885104",
     "status": "completed"
    },
    "tags": []
   },
   "outputs": [
    {
     "data": {
      "text/html": [
       "<div>\n",
       "<style scoped>\n",
       "    .dataframe tbody tr th:only-of-type {\n",
       "        vertical-align: middle;\n",
       "    }\n",
       "\n",
       "    .dataframe tbody tr th {\n",
       "        vertical-align: top;\n",
       "    }\n",
       "\n",
       "    .dataframe thead th {\n",
       "        text-align: right;\n",
       "    }\n",
       "</style>\n",
       "<table border=\"1\" class=\"dataframe\">\n",
       "  <thead>\n",
       "    <tr style=\"text-align: right;\">\n",
       "      <th></th>\n",
       "      <th>Regression Model</th>\n",
       "      <th>Train Score</th>\n",
       "      <th>Test Score</th>\n",
       "    </tr>\n",
       "  </thead>\n",
       "  <tbody>\n",
       "    <tr>\n",
       "      <th>4</th>\n",
       "      <td>Random Forest</td>\n",
       "      <td>97.169793</td>\n",
       "      <td>90.035235</td>\n",
       "    </tr>\n",
       "    <tr>\n",
       "      <th>6</th>\n",
       "      <td>Gradient Boosting</td>\n",
       "      <td>98.982941</td>\n",
       "      <td>88.635595</td>\n",
       "    </tr>\n",
       "    <tr>\n",
       "      <th>0</th>\n",
       "      <td>Linear Regression</td>\n",
       "      <td>80.711725</td>\n",
       "      <td>88.077323</td>\n",
       "    </tr>\n",
       "    <tr>\n",
       "      <th>2</th>\n",
       "      <td>Lasso Regression</td>\n",
       "      <td>80.711725</td>\n",
       "      <td>88.077320</td>\n",
       "    </tr>\n",
       "    <tr>\n",
       "      <th>1</th>\n",
       "      <td>Ridge Regression</td>\n",
       "      <td>80.711723</td>\n",
       "      <td>88.076171</td>\n",
       "    </tr>\n",
       "    <tr>\n",
       "      <th>3</th>\n",
       "      <td>Decision Tree</td>\n",
       "      <td>91.454158</td>\n",
       "      <td>87.370146</td>\n",
       "    </tr>\n",
       "    <tr>\n",
       "      <th>5</th>\n",
       "      <td>KNN Regression</td>\n",
       "      <td>84.967782</td>\n",
       "      <td>86.817059</td>\n",
       "    </tr>\n",
       "  </tbody>\n",
       "</table>\n",
       "</div>"
      ],
      "text/plain": [
       "    Regression Model  Train Score  Test Score\n",
       "4      Random Forest    97.169793   90.035235\n",
       "6  Gradient Boosting    98.982941   88.635595\n",
       "0  Linear Regression    80.711725   88.077323\n",
       "2   Lasso Regression    80.711725   88.077320\n",
       "1   Ridge Regression    80.711723   88.076171\n",
       "3      Decision Tree    91.454158   87.370146\n",
       "5     KNN Regression    84.967782   86.817059"
      ]
     },
     "execution_count": 38,
     "metadata": {},
     "output_type": "execute_result"
    }
   ],
   "source": [
    "lr_trainscore=lr.score(X_train,y_train)*100\n",
    "clf_trainscore=clf.score(X_train,y_train)*100\n",
    "ls_trainscore=ls.score(X_train,y_train)*100\n",
    "dt_trainscore=dt.score(X_train,y_train)*100\n",
    "fr_trainscore=forest.score(X_train,y_train)*100\n",
    "knn_trainscore=knn.score(X_train,y_train)*100\n",
    "gbr_trainscore=gbr.score(X_train, y_train)*100\n",
    "\n",
    "lr_testscore=lr.score(X_test,y_test)*100\n",
    "clf_testscore=clf.score(X_test,y_test)*100\n",
    "ls_testscore=ls.score(X_test,y_test)*100\n",
    "dt_testscore=dt.score(X_test,y_test)*100\n",
    "fr_testscore=forest.score(X_test,y_test)*100\n",
    "knn_testscore=knn.score(X_test,y_test)*100\n",
    "gbr_testscore=gbr.score(X_test, y_test)*100\n",
    "\n",
    "\n",
    "models = pd.DataFrame({\n",
    "    'Regression Model' : ['Linear Regression',\n",
    "                            'Ridge Regression',\n",
    "                            'Lasso Regression',\n",
    "                            'Decision Tree',\n",
    "                            'Random Forest',\n",
    "                            'KNN Regression',\n",
    "                            'Gradient Boosting'],\n",
    "    \n",
    "    'Train Score' : [lr_trainscore,\n",
    "                     clf_trainscore,\n",
    "                     ls_trainscore,\n",
    "                     dt_trainscore,\n",
    "                     fr_trainscore,\n",
    "                     knn_trainscore,\n",
    "                     gbr_trainscore],\n",
    "    \n",
    "    'Test Score'  : [lr_testscore,\n",
    "                     clf_testscore,\n",
    "                     ls_testscore,\n",
    "                     dt_testscore,\n",
    "                     fr_testscore,\n",
    "                     knn_testscore,\n",
    "                     gbr_testscore]\n",
    "})\n",
    "\n",
    "\n",
    "models.sort_values(by = 'Test Score', ascending = False)"
   ]
  },
  {
   "cell_type": "markdown",
   "id": "94da458e",
   "metadata": {
    "papermill": {
     "duration": 0.030386,
     "end_time": "2022-06-18T18:17:44.470862",
     "exception": false,
     "start_time": "2022-06-18T18:17:44.440476",
     "status": "completed"
    },
    "tags": []
   },
   "source": [
    "#### Observation:\n",
    "* Random Forest and Gradient Boosting Regression exhibit the highest Test as well as Training accuracy.\n",
    "* Gradient Boosting Regression exhibits greatest overfitting.\n",
    "* In this case, however even if Random Forest and Gradient Boosting Regression exhibit higher test scores they still show an impractical amount of overfitting.\n",
    "* Therefore in this case we choose KNN and Decision Tree Regression as they exhibit a tolerable amount of overfitting."
   ]
  },
  {
   "cell_type": "markdown",
   "id": "b1e873f0",
   "metadata": {
    "papermill": {
     "duration": 0.030261,
     "end_time": "2022-06-18T18:17:44.531113",
     "exception": false,
     "start_time": "2022-06-18T18:17:44.500852",
     "status": "completed"
    },
    "tags": []
   },
   "source": [
    "### Hyperparameter Tuning:"
   ]
  },
  {
   "cell_type": "code",
   "execution_count": 39,
   "id": "3e2b7ec2",
   "metadata": {
    "execution": {
     "iopub.execute_input": "2022-06-18T18:17:44.592542Z",
     "iopub.status.busy": "2022-06-18T18:17:44.592078Z",
     "iopub.status.idle": "2022-06-18T18:18:14.351995Z",
     "shell.execute_reply": "2022-06-18T18:18:14.350740Z"
    },
    "papermill": {
     "duration": 29.793206,
     "end_time": "2022-06-18T18:18:14.354209",
     "exception": false,
     "start_time": "2022-06-18T18:17:44.561003",
     "status": "completed"
    },
    "tags": []
   },
   "outputs": [
    {
     "data": {
      "image/png": "[encoded data removed]",
      "text/plain": [
       "<Figure size 1296x432 with 3 Axes>"
      ]
     },
     "metadata": {
      "needs_background": "light"
     },
     "output_type": "display_data"
    }
   ],
   "source": [
    "knnscores=pd.DataFrame({'N_Neighbours':[],'Score':[]})\n",
    "dtscores=pd.DataFrame({'MaxDepth':[],'Score':[]})\n",
    "forestscores=pd.DataFrame({'MaxDepth':[],'Score':[]})\n",
    "gbrscores=pd.DataFrame({'MaxDepth':[],'Score':[]})\n",
    "\n",
    "for i in range (1,50):\n",
    "    knn=KNeighborsRegressor(n_neighbors=i)\n",
    "    knn.fit(X_train,y_train)\n",
    "    knnscores.loc[len(knnscores.index)] = [i,knn.score(X_test,y_test)*100]\n",
    "    \n",
    "    dt=DecisionTreeRegressor(max_depth=i)\n",
    "    dt.fit(X_train,y_train)\n",
    "    dtscores.loc[len(dtscores.index)] = [i,dt.score(X_test,y_test)*100]\n",
    "\n",
    "for i in range (1,20):\n",
    "    forest=RandomForestRegressor(criterion='absolute_error',\n",
    "                                 max_depth=i*2,\n",
    "                                 random_state=0,\n",
    "                                 n_jobs=-1)\n",
    "    forest.fit(X_train,y_train)\n",
    "    forestscores.loc[len(forestscores.index)] = [i,forest.score(X_test,y_test)*100]\n",
    "\n",
    "    \n",
    "fig = plt.figure(figsize=(18,6))\n",
    "gs = fig.add_gridspec(1,3)\n",
    "gs.update(wspace=0.3)\n",
    "\n",
    "ax0 = fig.add_subplot(gs[0,0])    \n",
    "ax1 = fig.add_subplot(gs[0,1])\n",
    "ax2 = fig.add_subplot(gs[0,2])\n",
    "\n",
    "ax0=sns.scatterplot(data=knnscores,x='N_Neighbours',y='Score',ax=ax0)\n",
    "ax1=sns.scatterplot(data=dtscores,x='MaxDepth',y='Score',ax=ax1)\n",
    "ax2=sns.scatterplot(data=forestscores,x='MaxDepth',y='Score',ax=ax2)\n"
   ]
  },
  {
   "cell_type": "markdown",
   "id": "d675c9ce",
   "metadata": {
    "papermill": {
     "duration": 0.03021,
     "end_time": "2022-06-18T18:18:14.415092",
     "exception": false,
     "start_time": "2022-06-18T18:18:14.384882",
     "status": "completed"
    },
    "tags": []
   },
   "source": [
    "##### Observation:\n",
    "* KNN score peaks at around 4-5 nearest neighbours.\n",
    "* Decision Tree peaks at a maxdepth of around 5-8.\n",
    "* Random Forest peaks at a maxdepth of 3-5."
   ]
  },
  {
   "cell_type": "markdown",
   "id": "44f8be1d",
   "metadata": {
    "papermill": {
     "duration": 0.030368,
     "end_time": "2022-06-18T18:18:14.475678",
     "exception": false,
     "start_time": "2022-06-18T18:18:14.445310",
     "status": "completed"
    },
    "tags": []
   },
   "source": [
    "### Message\n",
    "* Please feel free to correct me wherever possible as I am very new to Notebooks and Data Science.\n",
    "* I also invite you to add and change things which you believe could be done differently.\n",
    "* Thanks and Cheers!"
   ]
  }
 ],
 "metadata": {
  "kernelspec": {
   "display_name": "Python 3",
   "language": "python",
   "name": "python3"
  },
  "language_info": {
   "codemirror_mode": {
    "name": "ipython",
    "version": 3
   },
   "file_extension": ".py",
   "mimetype": "text/x-python",
   "name": "python",
   "nbconvert_exporter": "python",
   "pygments_lexer": "ipython3",
   "version": "3.7.12"
  },
  "papermill": {
   "default_parameters": {},
   "duration": 65.757099,
   "end_time": "2022-06-18T18:18:15.429433",
   "environment_variables": {},
   "exception": null,
   "input_path": "__notebook__.ipynb",
   "output_path": "__notebook__.ipynb",
   "parameters": {},
   "start_time": "2022-06-18T18:17:09.672334",
   "version": "2.3.4"
  }
 },
 "nbformat": 4,
 "nbformat_minor": 5
}
